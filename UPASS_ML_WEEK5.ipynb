{
  "nbformat": 4,
  "nbformat_minor": 0,
  "metadata": {
    "colab": {
      "provenance": [],
      "authorship_tag": "ABX9TyOuDMPxqH/Vay/VqyfGplER",
      "include_colab_link": true
    },
    "kernelspec": {
      "name": "python3",
      "display_name": "Python 3"
    },
    "language_info": {
      "name": "python"
    }
  },
  "cells": [
    {
      "cell_type": "markdown",
      "metadata": {
        "id": "view-in-github",
        "colab_type": "text"
      },
      "source": [
        "<a href=\"https://colab.research.google.com/github/merrymira/UPASS_ML_WEEK5/blob/main/UPASS_ML_WEEK5.ipynb\" target=\"_parent\"><img src=\"https://colab.research.google.com/assets/colab-badge.svg\" alt=\"Open In Colab\"/></a>"
      ]
    },
    {
      "cell_type": "markdown",
      "source": [
        "# Machine Learning Exercise\n",
        "\n",
        "Features Engineering for Linear Regression Model\n",
        "\n",
        "Reference:\n",
        "https://www.kaggle.com/code/klmsathishkumar/shipping-cost-prediction/notebook\n",
        "\n",
        "Training dataset:\n",
        "https://raw.githubusercontent.com/merrymira/UPASS_ML_WEEK4/main/train.csv\n",
        "\n",
        "Testing dataset:\n",
        "https://raw.githubusercontent.com/merrymira/UPASS_ML_WEEK4/main/test.csv\n",
        "\n",
        "We will use features engineering technique to improve the predicting performance of shipping cost from linear regression model.\n",
        "\n",
        "The steps are:\n",
        "\n",
        "1. Load Explore and Prepare Dataset\n",
        "2. Feature Selection\n",
        "\n",
        "*   Missing Values\n",
        "*   Information Gain\n",
        "*   Categorical Encoding\n",
        "*   Feature Splitting\n",
        "*   Handling Outliers\n",
        "*   Variable Transformations\n",
        "*   Scaling\n",
        "*   Feature Creation in ML   \n",
        "    \n",
        "3. Modelling and Analyze the performance"
      ],
      "metadata": {
        "id": "tnmVfLtMIars"
      }
    },
    {
      "cell_type": "markdown",
      "source": [
        "##1. Load Explore and Prepare Dataset"
      ],
      "metadata": {
        "id": "FHfr40dtVsrS"
      }
    },
    {
      "cell_type": "markdown",
      "source": [
        "**[1.1]** Import the pandas and numpy packages"
      ],
      "metadata": {
        "id": "hBjNjtC6V4Jb"
      }
    },
    {
      "cell_type": "code",
      "source": [
        "import pandas as pd\n",
        "import numpy as np\n",
        "import matplotlib.pyplot as plt\n",
        "import seaborn as sns"
      ],
      "metadata": {
        "id": "tQjtNq9wJx5K"
      },
      "execution_count": null,
      "outputs": []
    },
    {
      "cell_type": "markdown",
      "source": [
        "**[1.2]** Create a variable called file_url containing the link to the CSV file"
      ],
      "metadata": {
        "id": "McXNR-uwV-FU"
      }
    },
    {
      "cell_type": "code",
      "source": [
        "file_url = \"https://raw.githubusercontent.com/merrymira/UPASS_ML_WEEK4/main/train.csv\""
      ],
      "metadata": {
        "id": "6GDdUBpsXS8A"
      },
      "execution_count": null,
      "outputs": []
    },
    {
      "cell_type": "markdown",
      "source": [
        "**[1.3]** Load the data into a DataFrame called df"
      ],
      "metadata": {
        "id": "8_zQbJpbXcZi"
      }
    },
    {
      "cell_type": "code",
      "source": [
        "org_train = pd.read_csv(file_url, index_col=0)\n",
        "df_train = pd.read_csv(file_url, index_col=0)"
      ],
      "metadata": {
        "id": "aRznC0BFLbrj"
      },
      "execution_count": null,
      "outputs": []
    },
    {
      "cell_type": "markdown",
      "source": [
        "**[1.4]** Display the first 5 rows of df"
      ],
      "metadata": {
        "id": "eiyIaB9YYvoT"
      }
    },
    {
      "cell_type": "code",
      "source": [
        "df_train.head()"
      ],
      "metadata": {
        "colab": {
          "base_uri": "https://localhost:8080/",
          "height": 396
        },
        "id": "9IEX-QokV_GQ",
        "outputId": "a6a8e598-c706-4a61-fba1-d8e1c79c2c7b"
      },
      "execution_count": null,
      "outputs": [
        {
          "output_type": "execute_result",
          "data": {
            "text/plain": [
              "                         Artist Name  Artist Reputation  Height  Width  \\\n",
              "Customer Id                                                              \n",
              "fffe3900350033003300   Billy Jenkins               0.26    17.0    6.0   \n",
              "fffe3800330031003900     Jean Bryant               0.28     3.0    3.0   \n",
              "fffe3600370035003100    Laura Miller               0.07     8.0    5.0   \n",
              "fffe350031003300      Robert Chaires               0.12     9.0    NaN   \n",
              "fffe3900320038003400    Rosalyn Krol               0.15    17.0    6.0   \n",
              "\n",
              "                      Weight   Material  Price Of Sculpture  \\\n",
              "Customer Id                                                   \n",
              "fffe3900350033003300  4128.0      Brass               13.91   \n",
              "fffe3800330031003900    61.0      Brass                6.83   \n",
              "fffe3600370035003100   237.0       Clay                4.96   \n",
              "fffe350031003300         NaN  Aluminium                5.81   \n",
              "fffe3900320038003400   324.0  Aluminium                3.18   \n",
              "\n",
              "                      Base Shipping Price International Express Shipment  \\\n",
              "Customer Id                                                                \n",
              "fffe3900350033003300                16.27           Yes              Yes   \n",
              "fffe3800330031003900                15.00            No               No   \n",
              "fffe3600370035003100                21.18            No               No   \n",
              "fffe350031003300                    16.31            No               No   \n",
              "fffe3900320038003400                11.94           Yes              Yes   \n",
              "\n",
              "                     Installation Included Transport Fragile  \\\n",
              "Customer Id                                                    \n",
              "fffe3900350033003300                    No   Airways      No   \n",
              "fffe3800330031003900                    No  Roadways      No   \n",
              "fffe3600370035003100                    No  Roadways     Yes   \n",
              "fffe350031003300                        No       NaN      No   \n",
              "fffe3900320038003400                   Yes   Airways      No   \n",
              "\n",
              "                     Customer Information Remote Location Scheduled Date  \\\n",
              "Customer Id                                                                \n",
              "fffe3900350033003300        Working Class              No       06/07/15   \n",
              "fffe3800330031003900        Working Class              No       03/06/17   \n",
              "fffe3600370035003100        Working Class             Yes       03/09/15   \n",
              "fffe350031003300                  Wealthy             Yes       05/24/15   \n",
              "fffe3900320038003400        Working Class              No       12/18/16   \n",
              "\n",
              "                     Delivery Date          Customer Location    Cost  \n",
              "Customer Id                                                            \n",
              "fffe3900350033003300      06/03/15     New Michelle, OH 50777 -283.29  \n",
              "fffe3800330031003900      03/05/17  New Michaelport, WY 12072 -159.96  \n",
              "fffe3600370035003100      03/08/15      Bowmanshire, WA 19241 -154.29  \n",
              "fffe350031003300          05/20/15       East Robyn, KY 86375 -161.16  \n",
              "fffe3900320038003400      12/14/16        Aprilside, PA 52793 -159.23  "
            ],
            "text/html": [
              "\n",
              "  <div id=\"df-ce261f2c-f112-400f-a3b6-d4c86c8154d3\" class=\"colab-df-container\">\n",
              "    <div>\n",
              "<style scoped>\n",
              "    .dataframe tbody tr th:only-of-type {\n",
              "        vertical-align: middle;\n",
              "    }\n",
              "\n",
              "    .dataframe tbody tr th {\n",
              "        vertical-align: top;\n",
              "    }\n",
              "\n",
              "    .dataframe thead th {\n",
              "        text-align: right;\n",
              "    }\n",
              "</style>\n",
              "<table border=\"1\" class=\"dataframe\">\n",
              "  <thead>\n",
              "    <tr style=\"text-align: right;\">\n",
              "      <th></th>\n",
              "      <th>Artist Name</th>\n",
              "      <th>Artist Reputation</th>\n",
              "      <th>Height</th>\n",
              "      <th>Width</th>\n",
              "      <th>Weight</th>\n",
              "      <th>Material</th>\n",
              "      <th>Price Of Sculpture</th>\n",
              "      <th>Base Shipping Price</th>\n",
              "      <th>International</th>\n",
              "      <th>Express Shipment</th>\n",
              "      <th>Installation Included</th>\n",
              "      <th>Transport</th>\n",
              "      <th>Fragile</th>\n",
              "      <th>Customer Information</th>\n",
              "      <th>Remote Location</th>\n",
              "      <th>Scheduled Date</th>\n",
              "      <th>Delivery Date</th>\n",
              "      <th>Customer Location</th>\n",
              "      <th>Cost</th>\n",
              "    </tr>\n",
              "    <tr>\n",
              "      <th>Customer Id</th>\n",
              "      <th></th>\n",
              "      <th></th>\n",
              "      <th></th>\n",
              "      <th></th>\n",
              "      <th></th>\n",
              "      <th></th>\n",
              "      <th></th>\n",
              "      <th></th>\n",
              "      <th></th>\n",
              "      <th></th>\n",
              "      <th></th>\n",
              "      <th></th>\n",
              "      <th></th>\n",
              "      <th></th>\n",
              "      <th></th>\n",
              "      <th></th>\n",
              "      <th></th>\n",
              "      <th></th>\n",
              "      <th></th>\n",
              "    </tr>\n",
              "  </thead>\n",
              "  <tbody>\n",
              "    <tr>\n",
              "      <th>fffe3900350033003300</th>\n",
              "      <td>Billy Jenkins</td>\n",
              "      <td>0.26</td>\n",
              "      <td>17.0</td>\n",
              "      <td>6.0</td>\n",
              "      <td>4128.0</td>\n",
              "      <td>Brass</td>\n",
              "      <td>13.91</td>\n",
              "      <td>16.27</td>\n",
              "      <td>Yes</td>\n",
              "      <td>Yes</td>\n",
              "      <td>No</td>\n",
              "      <td>Airways</td>\n",
              "      <td>No</td>\n",
              "      <td>Working Class</td>\n",
              "      <td>No</td>\n",
              "      <td>06/07/15</td>\n",
              "      <td>06/03/15</td>\n",
              "      <td>New Michelle, OH 50777</td>\n",
              "      <td>-283.29</td>\n",
              "    </tr>\n",
              "    <tr>\n",
              "      <th>fffe3800330031003900</th>\n",
              "      <td>Jean Bryant</td>\n",
              "      <td>0.28</td>\n",
              "      <td>3.0</td>\n",
              "      <td>3.0</td>\n",
              "      <td>61.0</td>\n",
              "      <td>Brass</td>\n",
              "      <td>6.83</td>\n",
              "      <td>15.00</td>\n",
              "      <td>No</td>\n",
              "      <td>No</td>\n",
              "      <td>No</td>\n",
              "      <td>Roadways</td>\n",
              "      <td>No</td>\n",
              "      <td>Working Class</td>\n",
              "      <td>No</td>\n",
              "      <td>03/06/17</td>\n",
              "      <td>03/05/17</td>\n",
              "      <td>New Michaelport, WY 12072</td>\n",
              "      <td>-159.96</td>\n",
              "    </tr>\n",
              "    <tr>\n",
              "      <th>fffe3600370035003100</th>\n",
              "      <td>Laura Miller</td>\n",
              "      <td>0.07</td>\n",
              "      <td>8.0</td>\n",
              "      <td>5.0</td>\n",
              "      <td>237.0</td>\n",
              "      <td>Clay</td>\n",
              "      <td>4.96</td>\n",
              "      <td>21.18</td>\n",
              "      <td>No</td>\n",
              "      <td>No</td>\n",
              "      <td>No</td>\n",
              "      <td>Roadways</td>\n",
              "      <td>Yes</td>\n",
              "      <td>Working Class</td>\n",
              "      <td>Yes</td>\n",
              "      <td>03/09/15</td>\n",
              "      <td>03/08/15</td>\n",
              "      <td>Bowmanshire, WA 19241</td>\n",
              "      <td>-154.29</td>\n",
              "    </tr>\n",
              "    <tr>\n",
              "      <th>fffe350031003300</th>\n",
              "      <td>Robert Chaires</td>\n",
              "      <td>0.12</td>\n",
              "      <td>9.0</td>\n",
              "      <td>NaN</td>\n",
              "      <td>NaN</td>\n",
              "      <td>Aluminium</td>\n",
              "      <td>5.81</td>\n",
              "      <td>16.31</td>\n",
              "      <td>No</td>\n",
              "      <td>No</td>\n",
              "      <td>No</td>\n",
              "      <td>NaN</td>\n",
              "      <td>No</td>\n",
              "      <td>Wealthy</td>\n",
              "      <td>Yes</td>\n",
              "      <td>05/24/15</td>\n",
              "      <td>05/20/15</td>\n",
              "      <td>East Robyn, KY 86375</td>\n",
              "      <td>-161.16</td>\n",
              "    </tr>\n",
              "    <tr>\n",
              "      <th>fffe3900320038003400</th>\n",
              "      <td>Rosalyn Krol</td>\n",
              "      <td>0.15</td>\n",
              "      <td>17.0</td>\n",
              "      <td>6.0</td>\n",
              "      <td>324.0</td>\n",
              "      <td>Aluminium</td>\n",
              "      <td>3.18</td>\n",
              "      <td>11.94</td>\n",
              "      <td>Yes</td>\n",
              "      <td>Yes</td>\n",
              "      <td>Yes</td>\n",
              "      <td>Airways</td>\n",
              "      <td>No</td>\n",
              "      <td>Working Class</td>\n",
              "      <td>No</td>\n",
              "      <td>12/18/16</td>\n",
              "      <td>12/14/16</td>\n",
              "      <td>Aprilside, PA 52793</td>\n",
              "      <td>-159.23</td>\n",
              "    </tr>\n",
              "  </tbody>\n",
              "</table>\n",
              "</div>\n",
              "    <div class=\"colab-df-buttons\">\n",
              "\n",
              "  <div class=\"colab-df-container\">\n",
              "    <button class=\"colab-df-convert\" onclick=\"convertToInteractive('df-ce261f2c-f112-400f-a3b6-d4c86c8154d3')\"\n",
              "            title=\"Convert this dataframe to an interactive table.\"\n",
              "            style=\"display:none;\">\n",
              "\n",
              "  <svg xmlns=\"http://www.w3.org/2000/svg\" height=\"24px\" viewBox=\"0 -960 960 960\">\n",
              "    <path d=\"M120-120v-720h720v720H120Zm60-500h600v-160H180v160Zm220 220h160v-160H400v160Zm0 220h160v-160H400v160ZM180-400h160v-160H180v160Zm440 0h160v-160H620v160ZM180-180h160v-160H180v160Zm440 0h160v-160H620v160Z\"/>\n",
              "  </svg>\n",
              "    </button>\n",
              "\n",
              "  <style>\n",
              "    .colab-df-container {\n",
              "      display:flex;\n",
              "      gap: 12px;\n",
              "    }\n",
              "\n",
              "    .colab-df-convert {\n",
              "      background-color: #E8F0FE;\n",
              "      border: none;\n",
              "      border-radius: 50%;\n",
              "      cursor: pointer;\n",
              "      display: none;\n",
              "      fill: #1967D2;\n",
              "      height: 32px;\n",
              "      padding: 0 0 0 0;\n",
              "      width: 32px;\n",
              "    }\n",
              "\n",
              "    .colab-df-convert:hover {\n",
              "      background-color: #E2EBFA;\n",
              "      box-shadow: 0px 1px 2px rgba(60, 64, 67, 0.3), 0px 1px 3px 1px rgba(60, 64, 67, 0.15);\n",
              "      fill: #174EA6;\n",
              "    }\n",
              "\n",
              "    .colab-df-buttons div {\n",
              "      margin-bottom: 4px;\n",
              "    }\n",
              "\n",
              "    [theme=dark] .colab-df-convert {\n",
              "      background-color: #3B4455;\n",
              "      fill: #D2E3FC;\n",
              "    }\n",
              "\n",
              "    [theme=dark] .colab-df-convert:hover {\n",
              "      background-color: #434B5C;\n",
              "      box-shadow: 0px 1px 3px 1px rgba(0, 0, 0, 0.15);\n",
              "      filter: drop-shadow(0px 1px 2px rgba(0, 0, 0, 0.3));\n",
              "      fill: #FFFFFF;\n",
              "    }\n",
              "  </style>\n",
              "\n",
              "    <script>\n",
              "      const buttonEl =\n",
              "        document.querySelector('#df-ce261f2c-f112-400f-a3b6-d4c86c8154d3 button.colab-df-convert');\n",
              "      buttonEl.style.display =\n",
              "        google.colab.kernel.accessAllowed ? 'block' : 'none';\n",
              "\n",
              "      async function convertToInteractive(key) {\n",
              "        const element = document.querySelector('#df-ce261f2c-f112-400f-a3b6-d4c86c8154d3');\n",
              "        const dataTable =\n",
              "          await google.colab.kernel.invokeFunction('convertToInteractive',\n",
              "                                                    [key], {});\n",
              "        if (!dataTable) return;\n",
              "\n",
              "        const docLinkHtml = 'Like what you see? Visit the ' +\n",
              "          '<a target=\"_blank\" href=https://colab.research.google.com/notebooks/data_table.ipynb>data table notebook</a>'\n",
              "          + ' to learn more about interactive tables.';\n",
              "        element.innerHTML = '';\n",
              "        dataTable['output_type'] = 'display_data';\n",
              "        await google.colab.output.renderOutput(dataTable, element);\n",
              "        const docLink = document.createElement('div');\n",
              "        docLink.innerHTML = docLinkHtml;\n",
              "        element.appendChild(docLink);\n",
              "      }\n",
              "    </script>\n",
              "  </div>\n",
              "\n",
              "\n",
              "<div id=\"df-71f5b9dd-9807-42de-9e87-dcb36fe8d50b\">\n",
              "  <button class=\"colab-df-quickchart\" onclick=\"quickchart('df-71f5b9dd-9807-42de-9e87-dcb36fe8d50b')\"\n",
              "            title=\"Suggest charts\"\n",
              "            style=\"display:none;\">\n",
              "\n",
              "<svg xmlns=\"http://www.w3.org/2000/svg\" height=\"24px\"viewBox=\"0 0 24 24\"\n",
              "     width=\"24px\">\n",
              "    <g>\n",
              "        <path d=\"M19 3H5c-1.1 0-2 .9-2 2v14c0 1.1.9 2 2 2h14c1.1 0 2-.9 2-2V5c0-1.1-.9-2-2-2zM9 17H7v-7h2v7zm4 0h-2V7h2v10zm4 0h-2v-4h2v4z\"/>\n",
              "    </g>\n",
              "</svg>\n",
              "  </button>\n",
              "\n",
              "<style>\n",
              "  .colab-df-quickchart {\n",
              "      --bg-color: #E8F0FE;\n",
              "      --fill-color: #1967D2;\n",
              "      --hover-bg-color: #E2EBFA;\n",
              "      --hover-fill-color: #174EA6;\n",
              "      --disabled-fill-color: #AAA;\n",
              "      --disabled-bg-color: #DDD;\n",
              "  }\n",
              "\n",
              "  [theme=dark] .colab-df-quickchart {\n",
              "      --bg-color: #3B4455;\n",
              "      --fill-color: #D2E3FC;\n",
              "      --hover-bg-color: #434B5C;\n",
              "      --hover-fill-color: #FFFFFF;\n",
              "      --disabled-bg-color: #3B4455;\n",
              "      --disabled-fill-color: #666;\n",
              "  }\n",
              "\n",
              "  .colab-df-quickchart {\n",
              "    background-color: var(--bg-color);\n",
              "    border: none;\n",
              "    border-radius: 50%;\n",
              "    cursor: pointer;\n",
              "    display: none;\n",
              "    fill: var(--fill-color);\n",
              "    height: 32px;\n",
              "    padding: 0;\n",
              "    width: 32px;\n",
              "  }\n",
              "\n",
              "  .colab-df-quickchart:hover {\n",
              "    background-color: var(--hover-bg-color);\n",
              "    box-shadow: 0 1px 2px rgba(60, 64, 67, 0.3), 0 1px 3px 1px rgba(60, 64, 67, 0.15);\n",
              "    fill: var(--button-hover-fill-color);\n",
              "  }\n",
              "\n",
              "  .colab-df-quickchart-complete:disabled,\n",
              "  .colab-df-quickchart-complete:disabled:hover {\n",
              "    background-color: var(--disabled-bg-color);\n",
              "    fill: var(--disabled-fill-color);\n",
              "    box-shadow: none;\n",
              "  }\n",
              "\n",
              "  .colab-df-spinner {\n",
              "    border: 2px solid var(--fill-color);\n",
              "    border-color: transparent;\n",
              "    border-bottom-color: var(--fill-color);\n",
              "    animation:\n",
              "      spin 1s steps(1) infinite;\n",
              "  }\n",
              "\n",
              "  @keyframes spin {\n",
              "    0% {\n",
              "      border-color: transparent;\n",
              "      border-bottom-color: var(--fill-color);\n",
              "      border-left-color: var(--fill-color);\n",
              "    }\n",
              "    20% {\n",
              "      border-color: transparent;\n",
              "      border-left-color: var(--fill-color);\n",
              "      border-top-color: var(--fill-color);\n",
              "    }\n",
              "    30% {\n",
              "      border-color: transparent;\n",
              "      border-left-color: var(--fill-color);\n",
              "      border-top-color: var(--fill-color);\n",
              "      border-right-color: var(--fill-color);\n",
              "    }\n",
              "    40% {\n",
              "      border-color: transparent;\n",
              "      border-right-color: var(--fill-color);\n",
              "      border-top-color: var(--fill-color);\n",
              "    }\n",
              "    60% {\n",
              "      border-color: transparent;\n",
              "      border-right-color: var(--fill-color);\n",
              "    }\n",
              "    80% {\n",
              "      border-color: transparent;\n",
              "      border-right-color: var(--fill-color);\n",
              "      border-bottom-color: var(--fill-color);\n",
              "    }\n",
              "    90% {\n",
              "      border-color: transparent;\n",
              "      border-bottom-color: var(--fill-color);\n",
              "    }\n",
              "  }\n",
              "</style>\n",
              "\n",
              "  <script>\n",
              "    async function quickchart(key) {\n",
              "      const quickchartButtonEl =\n",
              "        document.querySelector('#' + key + ' button');\n",
              "      quickchartButtonEl.disabled = true;  // To prevent multiple clicks.\n",
              "      quickchartButtonEl.classList.add('colab-df-spinner');\n",
              "      try {\n",
              "        const charts = await google.colab.kernel.invokeFunction(\n",
              "            'suggestCharts', [key], {});\n",
              "      } catch (error) {\n",
              "        console.error('Error during call to suggestCharts:', error);\n",
              "      }\n",
              "      quickchartButtonEl.classList.remove('colab-df-spinner');\n",
              "      quickchartButtonEl.classList.add('colab-df-quickchart-complete');\n",
              "    }\n",
              "    (() => {\n",
              "      let quickchartButtonEl =\n",
              "        document.querySelector('#df-71f5b9dd-9807-42de-9e87-dcb36fe8d50b button');\n",
              "      quickchartButtonEl.style.display =\n",
              "        google.colab.kernel.accessAllowed ? 'block' : 'none';\n",
              "    })();\n",
              "  </script>\n",
              "</div>\n",
              "\n",
              "    </div>\n",
              "  </div>\n"
            ],
            "application/vnd.google.colaboratory.intrinsic+json": {
              "type": "dataframe",
              "variable_name": "df_train",
              "summary": "{\n  \"name\": \"df_train\",\n  \"rows\": 6500,\n  \"fields\": [\n    {\n      \"column\": \"Customer Id\",\n      \"properties\": {\n        \"dtype\": \"string\",\n        \"num_unique_values\": 6500,\n        \"samples\": [\n          \"fffe3400350035003700\",\n          \"fffe3300390032003500\",\n          \"fffe3200360038003600\"\n        ],\n        \"semantic_type\": \"\",\n        \"description\": \"\"\n      }\n    },\n    {\n      \"column\": \"Artist Name\",\n      \"properties\": {\n        \"dtype\": \"string\",\n        \"num_unique_values\": 6449,\n        \"samples\": [\n          \"Maria Tingle\",\n          \"Rosie Telschow\",\n          \"Jo White\"\n        ],\n        \"semantic_type\": \"\",\n        \"description\": \"\"\n      }\n    },\n    {\n      \"column\": \"Artist Reputation\",\n      \"properties\": {\n        \"dtype\": \"number\",\n        \"std\": 0.26578112962844136,\n        \"min\": 0.0,\n        \"max\": 1.0,\n        \"num_unique_values\": 101,\n        \"samples\": [\n          0.63,\n          0.03,\n          0.62\n        ],\n        \"semantic_type\": \"\",\n        \"description\": \"\"\n      }\n    },\n    {\n      \"column\": \"Height\",\n      \"properties\": {\n        \"dtype\": \"number\",\n        \"std\": 11.96819214259749,\n        \"min\": 3.0,\n        \"max\": 73.0,\n        \"num_unique_values\": 65,\n        \"samples\": [\n          52.0,\n          60.0,\n          17.0\n        ],\n        \"semantic_type\": \"\",\n        \"description\": \"\"\n      }\n    },\n    {\n      \"column\": \"Width\",\n      \"properties\": {\n        \"dtype\": \"number\",\n        \"std\": 5.417000221775418,\n        \"min\": 2.0,\n        \"max\": 50.0,\n        \"num_unique_values\": 40,\n        \"samples\": [\n          20.0,\n          21.0,\n          13.0\n        ],\n        \"semantic_type\": \"\",\n        \"description\": \"\"\n      }\n    },\n    {\n      \"column\": \"Weight\",\n      \"properties\": {\n        \"dtype\": \"number\",\n        \"std\": 2678081.227562183,\n        \"min\": 3.0,\n        \"max\": 117927869.0,\n        \"num_unique_values\": 4410,\n        \"samples\": [\n          2193.0,\n          98291.0,\n          169582.0\n        ],\n        \"semantic_type\": \"\",\n        \"description\": \"\"\n      }\n    },\n    {\n      \"column\": \"Material\",\n      \"properties\": {\n        \"dtype\": \"category\",\n        \"num_unique_values\": 7,\n        \"samples\": [\n          \"Brass\",\n          \"Clay\",\n          \"Bronze\"\n        ],\n        \"semantic_type\": \"\",\n        \"description\": \"\"\n      }\n    },\n    {\n      \"column\": \"Price Of Sculpture\",\n      \"properties\": {\n        \"dtype\": \"number\",\n        \"std\": 8819.6167502839,\n        \"min\": 3.0,\n        \"max\": 382385.67,\n        \"num_unique_values\": 3424,\n        \"samples\": [\n          1061.66,\n          980.25,\n          1805.44\n        ],\n        \"semantic_type\": \"\",\n        \"description\": \"\"\n      }\n    },\n    {\n      \"column\": \"Base Shipping Price\",\n      \"properties\": {\n        \"dtype\": \"number\",\n        \"std\": 26.873518631336637,\n        \"min\": 10.0,\n        \"max\": 99.98,\n        \"num_unique_values\": 3732,\n        \"samples\": [\n          76.37,\n          87.65,\n          26.24\n        ],\n        \"semantic_type\": \"\",\n        \"description\": \"\"\n      }\n    },\n    {\n      \"column\": \"International\",\n      \"properties\": {\n        \"dtype\": \"category\",\n        \"num_unique_values\": 2,\n        \"samples\": [\n          \"No\",\n          \"Yes\"\n        ],\n        \"semantic_type\": \"\",\n        \"description\": \"\"\n      }\n    },\n    {\n      \"column\": \"Express Shipment\",\n      \"properties\": {\n        \"dtype\": \"category\",\n        \"num_unique_values\": 2,\n        \"samples\": [\n          \"No\",\n          \"Yes\"\n        ],\n        \"semantic_type\": \"\",\n        \"description\": \"\"\n      }\n    },\n    {\n      \"column\": \"Installation Included\",\n      \"properties\": {\n        \"dtype\": \"category\",\n        \"num_unique_values\": 2,\n        \"samples\": [\n          \"Yes\",\n          \"No\"\n        ],\n        \"semantic_type\": \"\",\n        \"description\": \"\"\n      }\n    },\n    {\n      \"column\": \"Transport\",\n      \"properties\": {\n        \"dtype\": \"category\",\n        \"num_unique_values\": 3,\n        \"samples\": [\n          \"Airways\",\n          \"Roadways\"\n        ],\n        \"semantic_type\": \"\",\n        \"description\": \"\"\n      }\n    },\n    {\n      \"column\": \"Fragile\",\n      \"properties\": {\n        \"dtype\": \"category\",\n        \"num_unique_values\": 2,\n        \"samples\": [\n          \"Yes\",\n          \"No\"\n        ],\n        \"semantic_type\": \"\",\n        \"description\": \"\"\n      }\n    },\n    {\n      \"column\": \"Customer Information\",\n      \"properties\": {\n        \"dtype\": \"category\",\n        \"num_unique_values\": 2,\n        \"samples\": [\n          \"Wealthy\",\n          \"Working Class\"\n        ],\n        \"semantic_type\": \"\",\n        \"description\": \"\"\n      }\n    },\n    {\n      \"column\": \"Remote Location\",\n      \"properties\": {\n        \"dtype\": \"category\",\n        \"num_unique_values\": 2,\n        \"samples\": [\n          \"Yes\",\n          \"No\"\n        ],\n        \"semantic_type\": \"\",\n        \"description\": \"\"\n      }\n    },\n    {\n      \"column\": \"Scheduled Date\",\n      \"properties\": {\n        \"dtype\": \"object\",\n        \"num_unique_values\": 1660,\n        \"samples\": [\n          \"02/02/18\",\n          \"02/22/18\"\n        ],\n        \"semantic_type\": \"\",\n        \"description\": \"\"\n      }\n    },\n    {\n      \"column\": \"Delivery Date\",\n      \"properties\": {\n        \"dtype\": \"object\",\n        \"num_unique_values\": 1664,\n        \"samples\": [\n          \"11/01/17\",\n          \"09/07/18\"\n        ],\n        \"semantic_type\": \"\",\n        \"description\": \"\"\n      }\n    },\n    {\n      \"column\": \"Customer Location\",\n      \"properties\": {\n        \"dtype\": \"string\",\n        \"num_unique_values\": 6500,\n        \"samples\": [\n          \"South Danielle, MN 11042\",\n          \"Natalieburgh, NY 41609\"\n        ],\n        \"semantic_type\": \"\",\n        \"description\": \"\"\n      }\n    },\n    {\n      \"column\": \"Cost\",\n      \"properties\": {\n        \"dtype\": \"number\",\n        \"std\": 240657.86847316817,\n        \"min\": -880172.65,\n        \"max\": 11143428.25,\n        \"num_unique_values\": 6356,\n        \"samples\": [\n          198.85,\n          588.1\n        ],\n        \"semantic_type\": \"\",\n        \"description\": \"\"\n      }\n    }\n  ]\n}"
            }
          },
          "metadata": {},
          "execution_count": 4
        }
      ]
    },
    {
      "cell_type": "markdown",
      "source": [
        "**[1.5]** Display the summary (info) of df"
      ],
      "metadata": {
        "id": "DRJ81pO4bfDT"
      }
    },
    {
      "cell_type": "code",
      "source": [
        "df_train.info()"
      ],
      "metadata": {
        "colab": {
          "base_uri": "https://localhost:8080/"
        },
        "id": "4vETTKs1bd30",
        "outputId": "8d7b16c2-5388-4040-edb2-6c8328922c80"
      },
      "execution_count": null,
      "outputs": [
        {
          "output_type": "stream",
          "name": "stdout",
          "text": [
            "<class 'pandas.core.frame.DataFrame'>\n",
            "Index: 6500 entries, fffe3900350033003300 to fffe3700310031003600\n",
            "Data columns (total 19 columns):\n",
            " #   Column                 Non-Null Count  Dtype  \n",
            "---  ------                 --------------  -----  \n",
            " 0   Artist Name            6500 non-null   object \n",
            " 1   Artist Reputation      5750 non-null   float64\n",
            " 2   Height                 6125 non-null   float64\n",
            " 3   Width                  5916 non-null   float64\n",
            " 4   Weight                 5913 non-null   float64\n",
            " 5   Material               5736 non-null   object \n",
            " 6   Price Of Sculpture     6500 non-null   float64\n",
            " 7   Base Shipping Price    6500 non-null   float64\n",
            " 8   International          6500 non-null   object \n",
            " 9   Express Shipment       6500 non-null   object \n",
            " 10  Installation Included  6500 non-null   object \n",
            " 11  Transport              5108 non-null   object \n",
            " 12  Fragile                6500 non-null   object \n",
            " 13  Customer Information   6500 non-null   object \n",
            " 14  Remote Location        5729 non-null   object \n",
            " 15  Scheduled Date         6500 non-null   object \n",
            " 16  Delivery Date          6500 non-null   object \n",
            " 17  Customer Location      6500 non-null   object \n",
            " 18  Cost                   6500 non-null   float64\n",
            "dtypes: float64(7), object(12)\n",
            "memory usage: 1015.6+ KB\n"
          ]
        }
      ]
    },
    {
      "cell_type": "markdown",
      "source": [
        "**[1.6]** Check null values"
      ],
      "metadata": {
        "id": "-lwr1AfW0Qps"
      }
    },
    {
      "cell_type": "code",
      "source": [
        "df_train.isnull().sum()"
      ],
      "metadata": {
        "colab": {
          "base_uri": "https://localhost:8080/"
        },
        "id": "Ttyt2qzG0Li-",
        "outputId": "a2aef4ff-0b59-4d84-fe76-f55ae1948489"
      },
      "execution_count": null,
      "outputs": [
        {
          "output_type": "execute_result",
          "data": {
            "text/plain": [
              "Artist Name                 0\n",
              "Artist Reputation         750\n",
              "Height                    375\n",
              "Width                     584\n",
              "Weight                    587\n",
              "Material                  764\n",
              "Price Of Sculpture          0\n",
              "Base Shipping Price         0\n",
              "International               0\n",
              "Express Shipment            0\n",
              "Installation Included       0\n",
              "Transport                1392\n",
              "Fragile                     0\n",
              "Customer Information        0\n",
              "Remote Location           771\n",
              "Scheduled Date              0\n",
              "Delivery Date               0\n",
              "Customer Location           0\n",
              "Cost                        0\n",
              "dtype: int64"
            ]
          },
          "metadata": {},
          "execution_count": 6
        }
      ]
    },
    {
      "cell_type": "code",
      "source": [
        "# prompt: seperate categorical column and numerical\n",
        "\n",
        "cat_cols = df_train.select_dtypes(include=['object']).columns.tolist()\n",
        "num_cols = df_train.select_dtypes(exclude=['object']).columns.tolist()\n",
        "\n",
        "print(\"Categorical columns with missing values:\")\n",
        "print(df_train[cat_cols].columns[df_train[cat_cols].isnull().any()])\n",
        "\n",
        "print(\"\\nNumerical columns with missing values:\")\n",
        "print(df_train[num_cols].columns[df_train[num_cols].isnull().any()])"
      ],
      "metadata": {
        "colab": {
          "base_uri": "https://localhost:8080/"
        },
        "id": "n_WE51I90bi2",
        "outputId": "620e7dba-88dc-4134-a8e7-3122dc80a956"
      },
      "execution_count": null,
      "outputs": [
        {
          "output_type": "stream",
          "name": "stdout",
          "text": [
            "Categorical columns with missing values:\n",
            "Index(['Material', 'Transport', 'Remote Location'], dtype='object')\n",
            "\n",
            "Numerical columns with missing values:\n",
            "Index(['Artist Reputation', 'Height', 'Width', 'Weight'], dtype='object')\n"
          ]
        }
      ]
    },
    {
      "cell_type": "markdown",
      "source": [
        "#2. Features Selection\n",
        "###Missing Values\n"
      ],
      "metadata": {
        "id": "QJ6gez_Ygb_x"
      }
    },
    {
      "cell_type": "code",
      "source": [
        "# prompt: check percentage of null value for each features\n",
        "\n",
        "missing_pct = df_train.isnull().sum() * 100 / len(df_train)\n",
        "print(\"Percentage of missing values in each column:\")\n",
        "print(missing_pct)\n"
      ],
      "metadata": {
        "colab": {
          "base_uri": "https://localhost:8080/"
        },
        "id": "129T8C3ent3r",
        "outputId": "91e01a6d-9669-4811-97ae-c6202d4a7338"
      },
      "execution_count": null,
      "outputs": [
        {
          "output_type": "stream",
          "name": "stdout",
          "text": [
            "Percentage of missing values in each column:\n",
            "Artist Name               0.000000\n",
            "Artist Reputation        11.538462\n",
            "Height                    5.769231\n",
            "Width                     8.984615\n",
            "Weight                    9.030769\n",
            "Material                 11.753846\n",
            "Price Of Sculpture        0.000000\n",
            "Base Shipping Price       0.000000\n",
            "International             0.000000\n",
            "Express Shipment          0.000000\n",
            "Installation Included     0.000000\n",
            "Transport                21.415385\n",
            "Fragile                   0.000000\n",
            "Customer Information      0.000000\n",
            "Remote Location          11.861538\n",
            "Scheduled Date            0.000000\n",
            "Delivery Date             0.000000\n",
            "Customer Location         0.000000\n",
            "Cost                      0.000000\n",
            "dtype: float64\n"
          ]
        }
      ]
    },
    {
      "cell_type": "code",
      "source": [
        "for col in cat_cols:\n",
        "  if col in df_train.columns:\n",
        "    df_train[col] = df_train[col].fillna(df_train[col].mode())"
      ],
      "metadata": {
        "id": "QR8OvU0hqWBV"
      },
      "execution_count": null,
      "outputs": []
    },
    {
      "cell_type": "code",
      "source": [
        "for col in num_cols:\n",
        "  if col in df_train.columns:\n",
        "    df_train[col] = df_train[col].fillna(df_train[col].mean())"
      ],
      "metadata": {
        "id": "xXEwKxhwqoXG"
      },
      "execution_count": null,
      "outputs": []
    },
    {
      "cell_type": "markdown",
      "source": [
        "##Information Gain"
      ],
      "metadata": {
        "id": "P4SPp9MZob3G"
      }
    },
    {
      "cell_type": "code",
      "source": [
        "# prompt: X_train[cat_cols] transform label encodeing concat to x_train drop X_train[cat_cols] columns\n",
        "\n",
        "from sklearn.preprocessing import LabelEncoder\n",
        "\n",
        "le = LabelEncoder()\n",
        "for col in cat_cols:\n",
        "  if col in df_train.columns:\n",
        "    df_train[col] = le.fit_transform(df_train[col])"
      ],
      "metadata": {
        "id": "WPTDtMTkpKCw"
      },
      "execution_count": null,
      "outputs": []
    },
    {
      "cell_type": "code",
      "source": [
        "df_train.head()"
      ],
      "metadata": {
        "colab": {
          "base_uri": "https://localhost:8080/",
          "height": 292
        },
        "id": "ldpWGTlDpt4X",
        "outputId": "e865f54e-7fdd-46fa-870f-0bf55eb42f11"
      },
      "execution_count": null,
      "outputs": [
        {
          "output_type": "execute_result",
          "data": {
            "text/plain": [
              "                      Artist Name  Artist Reputation  Height     Width  \\\n",
              "Customer Id                                                              \n",
              "fffe3900350033003300          570               0.26    17.0  6.000000   \n",
              "fffe3800330031003900         2744               0.28     3.0  3.000000   \n",
              "fffe3600370035003100         3662               0.07     8.0  5.000000   \n",
              "fffe350031003300             5155               0.12     9.0  9.617647   \n",
              "fffe3900320038003400         5325               0.15    17.0  6.000000   \n",
              "\n",
              "                             Weight  Material  Price Of Sculpture  \\\n",
              "Customer Id                                                         \n",
              "fffe3900350033003300    4128.000000         1               13.91   \n",
              "fffe3800330031003900      61.000000         1                6.83   \n",
              "fffe3600370035003100     237.000000         3                4.96   \n",
              "fffe350031003300      400694.821918         0                5.81   \n",
              "fffe3900320038003400     324.000000         0                3.18   \n",
              "\n",
              "                      Base Shipping Price  International  Express Shipment  \\\n",
              "Customer Id                                                                  \n",
              "fffe3900350033003300                16.27              1                 1   \n",
              "fffe3800330031003900                15.00              0                 0   \n",
              "fffe3600370035003100                21.18              0                 0   \n",
              "fffe350031003300                    16.31              0                 0   \n",
              "fffe3900320038003400                11.94              1                 1   \n",
              "\n",
              "                      Installation Included  Transport  Fragile  \\\n",
              "Customer Id                                                       \n",
              "fffe3900350033003300                      0          0        0   \n",
              "fffe3800330031003900                      0          1        0   \n",
              "fffe3600370035003100                      0          1        1   \n",
              "fffe350031003300                          0          3        0   \n",
              "fffe3900320038003400                      1          0        0   \n",
              "\n",
              "                      Customer Information  Remote Location  Scheduled Date  \\\n",
              "Customer Id                                                                   \n",
              "fffe3900350033003300                     1                0             768   \n",
              "fffe3800330031003900                     1                0             317   \n",
              "fffe3600370035003100                     1                1             328   \n",
              "fffe350031003300                         0                1             700   \n",
              "fffe3900320038003400                     1                0            1606   \n",
              "\n",
              "                      Delivery Date  Customer Location    Cost  \n",
              "Customer Id                                                     \n",
              "fffe3900350033003300            749               3847 -283.29  \n",
              "fffe3800330031003900            308               3842 -159.96  \n",
              "fffe3600370035003100            321                524 -154.29  \n",
              "fffe350031003300                680               1566 -161.16  \n",
              "fffe3900320038003400           1597                404 -159.23  "
            ],
            "text/html": [
              "\n",
              "  <div id=\"df-f6c9cab8-6aa3-4063-8ab2-33a0ae847945\" class=\"colab-df-container\">\n",
              "    <div>\n",
              "<style scoped>\n",
              "    .dataframe tbody tr th:only-of-type {\n",
              "        vertical-align: middle;\n",
              "    }\n",
              "\n",
              "    .dataframe tbody tr th {\n",
              "        vertical-align: top;\n",
              "    }\n",
              "\n",
              "    .dataframe thead th {\n",
              "        text-align: right;\n",
              "    }\n",
              "</style>\n",
              "<table border=\"1\" class=\"dataframe\">\n",
              "  <thead>\n",
              "    <tr style=\"text-align: right;\">\n",
              "      <th></th>\n",
              "      <th>Artist Name</th>\n",
              "      <th>Artist Reputation</th>\n",
              "      <th>Height</th>\n",
              "      <th>Width</th>\n",
              "      <th>Weight</th>\n",
              "      <th>Material</th>\n",
              "      <th>Price Of Sculpture</th>\n",
              "      <th>Base Shipping Price</th>\n",
              "      <th>International</th>\n",
              "      <th>Express Shipment</th>\n",
              "      <th>Installation Included</th>\n",
              "      <th>Transport</th>\n",
              "      <th>Fragile</th>\n",
              "      <th>Customer Information</th>\n",
              "      <th>Remote Location</th>\n",
              "      <th>Scheduled Date</th>\n",
              "      <th>Delivery Date</th>\n",
              "      <th>Customer Location</th>\n",
              "      <th>Cost</th>\n",
              "    </tr>\n",
              "    <tr>\n",
              "      <th>Customer Id</th>\n",
              "      <th></th>\n",
              "      <th></th>\n",
              "      <th></th>\n",
              "      <th></th>\n",
              "      <th></th>\n",
              "      <th></th>\n",
              "      <th></th>\n",
              "      <th></th>\n",
              "      <th></th>\n",
              "      <th></th>\n",
              "      <th></th>\n",
              "      <th></th>\n",
              "      <th></th>\n",
              "      <th></th>\n",
              "      <th></th>\n",
              "      <th></th>\n",
              "      <th></th>\n",
              "      <th></th>\n",
              "      <th></th>\n",
              "    </tr>\n",
              "  </thead>\n",
              "  <tbody>\n",
              "    <tr>\n",
              "      <th>fffe3900350033003300</th>\n",
              "      <td>570</td>\n",
              "      <td>0.26</td>\n",
              "      <td>17.0</td>\n",
              "      <td>6.000000</td>\n",
              "      <td>4128.000000</td>\n",
              "      <td>1</td>\n",
              "      <td>13.91</td>\n",
              "      <td>16.27</td>\n",
              "      <td>1</td>\n",
              "      <td>1</td>\n",
              "      <td>0</td>\n",
              "      <td>0</td>\n",
              "      <td>0</td>\n",
              "      <td>1</td>\n",
              "      <td>0</td>\n",
              "      <td>768</td>\n",
              "      <td>749</td>\n",
              "      <td>3847</td>\n",
              "      <td>-283.29</td>\n",
              "    </tr>\n",
              "    <tr>\n",
              "      <th>fffe3800330031003900</th>\n",
              "      <td>2744</td>\n",
              "      <td>0.28</td>\n",
              "      <td>3.0</td>\n",
              "      <td>3.000000</td>\n",
              "      <td>61.000000</td>\n",
              "      <td>1</td>\n",
              "      <td>6.83</td>\n",
              "      <td>15.00</td>\n",
              "      <td>0</td>\n",
              "      <td>0</td>\n",
              "      <td>0</td>\n",
              "      <td>1</td>\n",
              "      <td>0</td>\n",
              "      <td>1</td>\n",
              "      <td>0</td>\n",
              "      <td>317</td>\n",
              "      <td>308</td>\n",
              "      <td>3842</td>\n",
              "      <td>-159.96</td>\n",
              "    </tr>\n",
              "    <tr>\n",
              "      <th>fffe3600370035003100</th>\n",
              "      <td>3662</td>\n",
              "      <td>0.07</td>\n",
              "      <td>8.0</td>\n",
              "      <td>5.000000</td>\n",
              "      <td>237.000000</td>\n",
              "      <td>3</td>\n",
              "      <td>4.96</td>\n",
              "      <td>21.18</td>\n",
              "      <td>0</td>\n",
              "      <td>0</td>\n",
              "      <td>0</td>\n",
              "      <td>1</td>\n",
              "      <td>1</td>\n",
              "      <td>1</td>\n",
              "      <td>1</td>\n",
              "      <td>328</td>\n",
              "      <td>321</td>\n",
              "      <td>524</td>\n",
              "      <td>-154.29</td>\n",
              "    </tr>\n",
              "    <tr>\n",
              "      <th>fffe350031003300</th>\n",
              "      <td>5155</td>\n",
              "      <td>0.12</td>\n",
              "      <td>9.0</td>\n",
              "      <td>9.617647</td>\n",
              "      <td>400694.821918</td>\n",
              "      <td>0</td>\n",
              "      <td>5.81</td>\n",
              "      <td>16.31</td>\n",
              "      <td>0</td>\n",
              "      <td>0</td>\n",
              "      <td>0</td>\n",
              "      <td>3</td>\n",
              "      <td>0</td>\n",
              "      <td>0</td>\n",
              "      <td>1</td>\n",
              "      <td>700</td>\n",
              "      <td>680</td>\n",
              "      <td>1566</td>\n",
              "      <td>-161.16</td>\n",
              "    </tr>\n",
              "    <tr>\n",
              "      <th>fffe3900320038003400</th>\n",
              "      <td>5325</td>\n",
              "      <td>0.15</td>\n",
              "      <td>17.0</td>\n",
              "      <td>6.000000</td>\n",
              "      <td>324.000000</td>\n",
              "      <td>0</td>\n",
              "      <td>3.18</td>\n",
              "      <td>11.94</td>\n",
              "      <td>1</td>\n",
              "      <td>1</td>\n",
              "      <td>1</td>\n",
              "      <td>0</td>\n",
              "      <td>0</td>\n",
              "      <td>1</td>\n",
              "      <td>0</td>\n",
              "      <td>1606</td>\n",
              "      <td>1597</td>\n",
              "      <td>404</td>\n",
              "      <td>-159.23</td>\n",
              "    </tr>\n",
              "  </tbody>\n",
              "</table>\n",
              "</div>\n",
              "    <div class=\"colab-df-buttons\">\n",
              "\n",
              "  <div class=\"colab-df-container\">\n",
              "    <button class=\"colab-df-convert\" onclick=\"convertToInteractive('df-f6c9cab8-6aa3-4063-8ab2-33a0ae847945')\"\n",
              "            title=\"Convert this dataframe to an interactive table.\"\n",
              "            style=\"display:none;\">\n",
              "\n",
              "  <svg xmlns=\"http://www.w3.org/2000/svg\" height=\"24px\" viewBox=\"0 -960 960 960\">\n",
              "    <path d=\"M120-120v-720h720v720H120Zm60-500h600v-160H180v160Zm220 220h160v-160H400v160Zm0 220h160v-160H400v160ZM180-400h160v-160H180v160Zm440 0h160v-160H620v160ZM180-180h160v-160H180v160Zm440 0h160v-160H620v160Z\"/>\n",
              "  </svg>\n",
              "    </button>\n",
              "\n",
              "  <style>\n",
              "    .colab-df-container {\n",
              "      display:flex;\n",
              "      gap: 12px;\n",
              "    }\n",
              "\n",
              "    .colab-df-convert {\n",
              "      background-color: #E8F0FE;\n",
              "      border: none;\n",
              "      border-radius: 50%;\n",
              "      cursor: pointer;\n",
              "      display: none;\n",
              "      fill: #1967D2;\n",
              "      height: 32px;\n",
              "      padding: 0 0 0 0;\n",
              "      width: 32px;\n",
              "    }\n",
              "\n",
              "    .colab-df-convert:hover {\n",
              "      background-color: #E2EBFA;\n",
              "      box-shadow: 0px 1px 2px rgba(60, 64, 67, 0.3), 0px 1px 3px 1px rgba(60, 64, 67, 0.15);\n",
              "      fill: #174EA6;\n",
              "    }\n",
              "\n",
              "    .colab-df-buttons div {\n",
              "      margin-bottom: 4px;\n",
              "    }\n",
              "\n",
              "    [theme=dark] .colab-df-convert {\n",
              "      background-color: #3B4455;\n",
              "      fill: #D2E3FC;\n",
              "    }\n",
              "\n",
              "    [theme=dark] .colab-df-convert:hover {\n",
              "      background-color: #434B5C;\n",
              "      box-shadow: 0px 1px 3px 1px rgba(0, 0, 0, 0.15);\n",
              "      filter: drop-shadow(0px 1px 2px rgba(0, 0, 0, 0.3));\n",
              "      fill: #FFFFFF;\n",
              "    }\n",
              "  </style>\n",
              "\n",
              "    <script>\n",
              "      const buttonEl =\n",
              "        document.querySelector('#df-f6c9cab8-6aa3-4063-8ab2-33a0ae847945 button.colab-df-convert');\n",
              "      buttonEl.style.display =\n",
              "        google.colab.kernel.accessAllowed ? 'block' : 'none';\n",
              "\n",
              "      async function convertToInteractive(key) {\n",
              "        const element = document.querySelector('#df-f6c9cab8-6aa3-4063-8ab2-33a0ae847945');\n",
              "        const dataTable =\n",
              "          await google.colab.kernel.invokeFunction('convertToInteractive',\n",
              "                                                    [key], {});\n",
              "        if (!dataTable) return;\n",
              "\n",
              "        const docLinkHtml = 'Like what you see? Visit the ' +\n",
              "          '<a target=\"_blank\" href=https://colab.research.google.com/notebooks/data_table.ipynb>data table notebook</a>'\n",
              "          + ' to learn more about interactive tables.';\n",
              "        element.innerHTML = '';\n",
              "        dataTable['output_type'] = 'display_data';\n",
              "        await google.colab.output.renderOutput(dataTable, element);\n",
              "        const docLink = document.createElement('div');\n",
              "        docLink.innerHTML = docLinkHtml;\n",
              "        element.appendChild(docLink);\n",
              "      }\n",
              "    </script>\n",
              "  </div>\n",
              "\n",
              "\n",
              "<div id=\"df-83ce5f8b-3028-4fc8-8e81-7a20e2d832bd\">\n",
              "  <button class=\"colab-df-quickchart\" onclick=\"quickchart('df-83ce5f8b-3028-4fc8-8e81-7a20e2d832bd')\"\n",
              "            title=\"Suggest charts\"\n",
              "            style=\"display:none;\">\n",
              "\n",
              "<svg xmlns=\"http://www.w3.org/2000/svg\" height=\"24px\"viewBox=\"0 0 24 24\"\n",
              "     width=\"24px\">\n",
              "    <g>\n",
              "        <path d=\"M19 3H5c-1.1 0-2 .9-2 2v14c0 1.1.9 2 2 2h14c1.1 0 2-.9 2-2V5c0-1.1-.9-2-2-2zM9 17H7v-7h2v7zm4 0h-2V7h2v10zm4 0h-2v-4h2v4z\"/>\n",
              "    </g>\n",
              "</svg>\n",
              "  </button>\n",
              "\n",
              "<style>\n",
              "  .colab-df-quickchart {\n",
              "      --bg-color: #E8F0FE;\n",
              "      --fill-color: #1967D2;\n",
              "      --hover-bg-color: #E2EBFA;\n",
              "      --hover-fill-color: #174EA6;\n",
              "      --disabled-fill-color: #AAA;\n",
              "      --disabled-bg-color: #DDD;\n",
              "  }\n",
              "\n",
              "  [theme=dark] .colab-df-quickchart {\n",
              "      --bg-color: #3B4455;\n",
              "      --fill-color: #D2E3FC;\n",
              "      --hover-bg-color: #434B5C;\n",
              "      --hover-fill-color: #FFFFFF;\n",
              "      --disabled-bg-color: #3B4455;\n",
              "      --disabled-fill-color: #666;\n",
              "  }\n",
              "\n",
              "  .colab-df-quickchart {\n",
              "    background-color: var(--bg-color);\n",
              "    border: none;\n",
              "    border-radius: 50%;\n",
              "    cursor: pointer;\n",
              "    display: none;\n",
              "    fill: var(--fill-color);\n",
              "    height: 32px;\n",
              "    padding: 0;\n",
              "    width: 32px;\n",
              "  }\n",
              "\n",
              "  .colab-df-quickchart:hover {\n",
              "    background-color: var(--hover-bg-color);\n",
              "    box-shadow: 0 1px 2px rgba(60, 64, 67, 0.3), 0 1px 3px 1px rgba(60, 64, 67, 0.15);\n",
              "    fill: var(--button-hover-fill-color);\n",
              "  }\n",
              "\n",
              "  .colab-df-quickchart-complete:disabled,\n",
              "  .colab-df-quickchart-complete:disabled:hover {\n",
              "    background-color: var(--disabled-bg-color);\n",
              "    fill: var(--disabled-fill-color);\n",
              "    box-shadow: none;\n",
              "  }\n",
              "\n",
              "  .colab-df-spinner {\n",
              "    border: 2px solid var(--fill-color);\n",
              "    border-color: transparent;\n",
              "    border-bottom-color: var(--fill-color);\n",
              "    animation:\n",
              "      spin 1s steps(1) infinite;\n",
              "  }\n",
              "\n",
              "  @keyframes spin {\n",
              "    0% {\n",
              "      border-color: transparent;\n",
              "      border-bottom-color: var(--fill-color);\n",
              "      border-left-color: var(--fill-color);\n",
              "    }\n",
              "    20% {\n",
              "      border-color: transparent;\n",
              "      border-left-color: var(--fill-color);\n",
              "      border-top-color: var(--fill-color);\n",
              "    }\n",
              "    30% {\n",
              "      border-color: transparent;\n",
              "      border-left-color: var(--fill-color);\n",
              "      border-top-color: var(--fill-color);\n",
              "      border-right-color: var(--fill-color);\n",
              "    }\n",
              "    40% {\n",
              "      border-color: transparent;\n",
              "      border-right-color: var(--fill-color);\n",
              "      border-top-color: var(--fill-color);\n",
              "    }\n",
              "    60% {\n",
              "      border-color: transparent;\n",
              "      border-right-color: var(--fill-color);\n",
              "    }\n",
              "    80% {\n",
              "      border-color: transparent;\n",
              "      border-right-color: var(--fill-color);\n",
              "      border-bottom-color: var(--fill-color);\n",
              "    }\n",
              "    90% {\n",
              "      border-color: transparent;\n",
              "      border-bottom-color: var(--fill-color);\n",
              "    }\n",
              "  }\n",
              "</style>\n",
              "\n",
              "  <script>\n",
              "    async function quickchart(key) {\n",
              "      const quickchartButtonEl =\n",
              "        document.querySelector('#' + key + ' button');\n",
              "      quickchartButtonEl.disabled = true;  // To prevent multiple clicks.\n",
              "      quickchartButtonEl.classList.add('colab-df-spinner');\n",
              "      try {\n",
              "        const charts = await google.colab.kernel.invokeFunction(\n",
              "            'suggestCharts', [key], {});\n",
              "      } catch (error) {\n",
              "        console.error('Error during call to suggestCharts:', error);\n",
              "      }\n",
              "      quickchartButtonEl.classList.remove('colab-df-spinner');\n",
              "      quickchartButtonEl.classList.add('colab-df-quickchart-complete');\n",
              "    }\n",
              "    (() => {\n",
              "      let quickchartButtonEl =\n",
              "        document.querySelector('#df-83ce5f8b-3028-4fc8-8e81-7a20e2d832bd button');\n",
              "      quickchartButtonEl.style.display =\n",
              "        google.colab.kernel.accessAllowed ? 'block' : 'none';\n",
              "    })();\n",
              "  </script>\n",
              "</div>\n",
              "\n",
              "    </div>\n",
              "  </div>\n"
            ],
            "application/vnd.google.colaboratory.intrinsic+json": {
              "type": "dataframe",
              "variable_name": "df_train",
              "summary": "{\n  \"name\": \"df_train\",\n  \"rows\": 6500,\n  \"fields\": [\n    {\n      \"column\": \"Customer Id\",\n      \"properties\": {\n        \"dtype\": \"string\",\n        \"num_unique_values\": 6500,\n        \"samples\": [\n          \"fffe3400350035003700\",\n          \"fffe3300390032003500\",\n          \"fffe3200360038003600\"\n        ],\n        \"semantic_type\": \"\",\n        \"description\": \"\"\n      }\n    },\n    {\n      \"column\": \"Artist Name\",\n      \"properties\": {\n        \"dtype\": \"number\",\n        \"std\": 1859,\n        \"min\": 0,\n        \"max\": 6448,\n        \"num_unique_values\": 6449,\n        \"samples\": [\n          4094,\n          5354,\n          2953\n        ],\n        \"semantic_type\": \"\",\n        \"description\": \"\"\n      }\n    },\n    {\n      \"column\": \"Artist Reputation\",\n      \"properties\": {\n        \"dtype\": \"number\",\n        \"std\": 0.2499752600080284,\n        \"min\": 0.0,\n        \"max\": 1.0,\n        \"num_unique_values\": 102,\n        \"samples\": [\n          0.68,\n          0.62,\n          0.41\n        ],\n        \"semantic_type\": \"\",\n        \"description\": \"\"\n      }\n    },\n    {\n      \"column\": \"Height\",\n      \"properties\": {\n        \"dtype\": \"number\",\n        \"std\": 11.617772703839421,\n        \"min\": 3.0,\n        \"max\": 73.0,\n        \"num_unique_values\": 66,\n        \"samples\": [\n          52.0,\n          73.0,\n          17.0\n        ],\n        \"semantic_type\": \"\",\n        \"description\": \"\"\n      }\n    },\n    {\n      \"column\": \"Width\",\n      \"properties\": {\n        \"dtype\": \"number\",\n        \"std\": 5.167886410650537,\n        \"min\": 2.0,\n        \"max\": 50.0,\n        \"num_unique_values\": 41,\n        \"samples\": [\n          27.0,\n          7.0,\n          25.0\n        ],\n        \"semantic_type\": \"\",\n        \"description\": \"\"\n      }\n    },\n    {\n      \"column\": \"Weight\",\n      \"properties\": {\n        \"dtype\": \"number\",\n        \"std\": 2554275.215970869,\n        \"min\": 3.0,\n        \"max\": 117927869.0,\n        \"num_unique_values\": 4411,\n        \"samples\": [\n          14181.0,\n          2533.0,\n          169582.0\n        ],\n        \"semantic_type\": \"\",\n        \"description\": \"\"\n      }\n    },\n    {\n      \"column\": \"Material\",\n      \"properties\": {\n        \"dtype\": \"number\",\n        \"std\": 2,\n        \"min\": 0,\n        \"max\": 7,\n        \"num_unique_values\": 8,\n        \"samples\": [\n          3,\n          2,\n          1\n        ],\n        \"semantic_type\": \"\",\n        \"description\": \"\"\n      }\n    },\n    {\n      \"column\": \"Price Of Sculpture\",\n      \"properties\": {\n        \"dtype\": \"number\",\n        \"std\": 8819.6167502839,\n        \"min\": 3.0,\n        \"max\": 382385.67,\n        \"num_unique_values\": 3424,\n        \"samples\": [\n          1061.66,\n          980.25,\n          1805.44\n        ],\n        \"semantic_type\": \"\",\n        \"description\": \"\"\n      }\n    },\n    {\n      \"column\": \"Base Shipping Price\",\n      \"properties\": {\n        \"dtype\": \"number\",\n        \"std\": 26.873518631336637,\n        \"min\": 10.0,\n        \"max\": 99.98,\n        \"num_unique_values\": 3732,\n        \"samples\": [\n          76.37,\n          87.65,\n          26.24\n        ],\n        \"semantic_type\": \"\",\n        \"description\": \"\"\n      }\n    },\n    {\n      \"column\": \"International\",\n      \"properties\": {\n        \"dtype\": \"number\",\n        \"std\": 0,\n        \"min\": 0,\n        \"max\": 1,\n        \"num_unique_values\": 2,\n        \"samples\": [\n          0,\n          1\n        ],\n        \"semantic_type\": \"\",\n        \"description\": \"\"\n      }\n    },\n    {\n      \"column\": \"Express Shipment\",\n      \"properties\": {\n        \"dtype\": \"number\",\n        \"std\": 0,\n        \"min\": 0,\n        \"max\": 1,\n        \"num_unique_values\": 2,\n        \"samples\": [\n          0,\n          1\n        ],\n        \"semantic_type\": \"\",\n        \"description\": \"\"\n      }\n    },\n    {\n      \"column\": \"Installation Included\",\n      \"properties\": {\n        \"dtype\": \"number\",\n        \"std\": 0,\n        \"min\": 0,\n        \"max\": 1,\n        \"num_unique_values\": 2,\n        \"samples\": [\n          1,\n          0\n        ],\n        \"semantic_type\": \"\",\n        \"description\": \"\"\n      }\n    },\n    {\n      \"column\": \"Transport\",\n      \"properties\": {\n        \"dtype\": \"number\",\n        \"std\": 1,\n        \"min\": 0,\n        \"max\": 3,\n        \"num_unique_values\": 4,\n        \"samples\": [\n          1,\n          2\n        ],\n        \"semantic_type\": \"\",\n        \"description\": \"\"\n      }\n    },\n    {\n      \"column\": \"Fragile\",\n      \"properties\": {\n        \"dtype\": \"number\",\n        \"std\": 0,\n        \"min\": 0,\n        \"max\": 1,\n        \"num_unique_values\": 2,\n        \"samples\": [\n          1,\n          0\n        ],\n        \"semantic_type\": \"\",\n        \"description\": \"\"\n      }\n    },\n    {\n      \"column\": \"Customer Information\",\n      \"properties\": {\n        \"dtype\": \"number\",\n        \"std\": 0,\n        \"min\": 0,\n        \"max\": 1,\n        \"num_unique_values\": 2,\n        \"samples\": [\n          0,\n          1\n        ],\n        \"semantic_type\": \"\",\n        \"description\": \"\"\n      }\n    },\n    {\n      \"column\": \"Remote Location\",\n      \"properties\": {\n        \"dtype\": \"number\",\n        \"std\": 0,\n        \"min\": 0,\n        \"max\": 2,\n        \"num_unique_values\": 3,\n        \"samples\": [\n          0,\n          1\n        ],\n        \"semantic_type\": \"\",\n        \"description\": \"\"\n      }\n    },\n    {\n      \"column\": \"Scheduled Date\",\n      \"properties\": {\n        \"dtype\": \"number\",\n        \"std\": 479,\n        \"min\": 0,\n        \"max\": 1659,\n        \"num_unique_values\": 1660,\n        \"samples\": [\n          161,\n          259\n        ],\n        \"semantic_type\": \"\",\n        \"description\": \"\"\n      }\n    },\n    {\n      \"column\": \"Delivery Date\",\n      \"properties\": {\n        \"dtype\": \"number\",\n        \"std\": 483,\n        \"min\": 0,\n        \"max\": 1663,\n        \"num_unique_values\": 1664,\n        \"samples\": [\n          1430,\n          1219\n        ],\n        \"semantic_type\": \"\",\n        \"description\": \"\"\n      }\n    },\n    {\n      \"column\": \"Customer Location\",\n      \"properties\": {\n        \"dtype\": \"number\",\n        \"std\": 1876,\n        \"min\": 0,\n        \"max\": 6499,\n        \"num_unique_values\": 6500,\n        \"samples\": [\n          5394,\n          3531\n        ],\n        \"semantic_type\": \"\",\n        \"description\": \"\"\n      }\n    },\n    {\n      \"column\": \"Cost\",\n      \"properties\": {\n        \"dtype\": \"number\",\n        \"std\": 240657.86847316817,\n        \"min\": -880172.65,\n        \"max\": 11143428.25,\n        \"num_unique_values\": 6356,\n        \"samples\": [\n          198.85,\n          588.1\n        ],\n        \"semantic_type\": \"\",\n        \"description\": \"\"\n      }\n    }\n  ]\n}"
            }
          },
          "metadata": {},
          "execution_count": 16
        }
      ]
    },
    {
      "cell_type": "code",
      "source": [
        "# prompt: information gain for each feature and plot bar chart\n",
        "\n",
        "from sklearn.feature_selection import mutual_info_regression\n",
        "\n",
        "X_train = df_train.drop('Base Shipping Price', axis=1)\n",
        "y_train = df_train['Base Shipping Price']\n",
        "\n",
        "mutual_info = mutual_info_regression(X_train, y_train)\n",
        "\n",
        "# Create a dataframe with the features and their corresponding mutual information scores\n",
        "mi_df = pd.DataFrame({'Feature': X_train.columns, 'Mutual Information': mutual_info})\n",
        "\n",
        "# Sort the dataframe by mutual information in descending order\n",
        "mi_df = mi_df.sort_values(by='Mutual Information', ascending=False)\n",
        "\n",
        "# Plot the bar chart\n",
        "plt.figure(figsize=(15, 7))\n",
        "sns.barplot(x='Mutual Information', y='Feature', data=mi_df)\n",
        "plt.title('Mutual Information for Features')\n",
        "plt.show()\n"
      ],
      "metadata": {
        "colab": {
          "base_uri": "https://localhost:8080/",
          "height": 486
        },
        "id": "mtt0N9LKn--_",
        "outputId": "7a8a32f6-12e0-49fb-ad66-971a54b3041d"
      },
      "execution_count": null,
      "outputs": [
        {
          "output_type": "display_data",
          "data": {
            "text/plain": [
              "<Figure size 1500x700 with 1 Axes>"
            ],
            "image/png": "[encoded data removed]"
          },
          "metadata": {}
        }
      ]
    },
    {
      "cell_type": "code",
      "source": [
        "mi_df"
      ],
      "metadata": {
        "id": "2DPTkI1Bq6GY",
        "outputId": "2cbea2a9-5ee7-4b07-8bfc-c0413b025d22",
        "colab": {
          "base_uri": "https://localhost:8080/",
          "height": 613
        }
      },
      "execution_count": null,
      "outputs": [
        {
          "output_type": "execute_result",
          "data": {
            "text/plain": [
              "                  Feature  Mutual Information\n",
              "4                  Weight            0.453638\n",
              "6      Price Of Sculpture            0.438196\n",
              "17                   Cost            0.343784\n",
              "5                Material            0.248953\n",
              "3                   Width            0.091243\n",
              "2                  Height            0.087636\n",
              "11                Fragile            0.006989\n",
              "16      Customer Location            0.003500\n",
              "0             Artist Name            0.001782\n",
              "1       Artist Reputation            0.000000\n",
              "10              Transport            0.000000\n",
              "8        Express Shipment            0.000000\n",
              "12   Customer Information            0.000000\n",
              "13        Remote Location            0.000000\n",
              "14         Scheduled Date            0.000000\n",
              "15          Delivery Date            0.000000\n",
              "7           International            0.000000\n",
              "9   Installation Included            0.000000"
            ],
            "text/html": [
              "\n",
              "  <div id=\"df-a1af57e8-99cf-4f96-b4e1-eef935ab62ae\" class=\"colab-df-container\">\n",
              "    <div>\n",
              "<style scoped>\n",
              "    .dataframe tbody tr th:only-of-type {\n",
              "        vertical-align: middle;\n",
              "    }\n",
              "\n",
              "    .dataframe tbody tr th {\n",
              "        vertical-align: top;\n",
              "    }\n",
              "\n",
              "    .dataframe thead th {\n",
              "        text-align: right;\n",
              "    }\n",
              "</style>\n",
              "<table border=\"1\" class=\"dataframe\">\n",
              "  <thead>\n",
              "    <tr style=\"text-align: right;\">\n",
              "      <th></th>\n",
              "      <th>Feature</th>\n",
              "      <th>Mutual Information</th>\n",
              "    </tr>\n",
              "  </thead>\n",
              "  <tbody>\n",
              "    <tr>\n",
              "      <th>4</th>\n",
              "      <td>Weight</td>\n",
              "      <td>0.453638</td>\n",
              "    </tr>\n",
              "    <tr>\n",
              "      <th>6</th>\n",
              "      <td>Price Of Sculpture</td>\n",
              "      <td>0.438196</td>\n",
              "    </tr>\n",
              "    <tr>\n",
              "      <th>17</th>\n",
              "      <td>Cost</td>\n",
              "      <td>0.343784</td>\n",
              "    </tr>\n",
              "    <tr>\n",
              "      <th>5</th>\n",
              "      <td>Material</td>\n",
              "      <td>0.248953</td>\n",
              "    </tr>\n",
              "    <tr>\n",
              "      <th>3</th>\n",
              "      <td>Width</td>\n",
              "      <td>0.091243</td>\n",
              "    </tr>\n",
              "    <tr>\n",
              "      <th>2</th>\n",
              "      <td>Height</td>\n",
              "      <td>0.087636</td>\n",
              "    </tr>\n",
              "    <tr>\n",
              "      <th>11</th>\n",
              "      <td>Fragile</td>\n",
              "      <td>0.006989</td>\n",
              "    </tr>\n",
              "    <tr>\n",
              "      <th>16</th>\n",
              "      <td>Customer Location</td>\n",
              "      <td>0.003500</td>\n",
              "    </tr>\n",
              "    <tr>\n",
              "      <th>0</th>\n",
              "      <td>Artist Name</td>\n",
              "      <td>0.001782</td>\n",
              "    </tr>\n",
              "    <tr>\n",
              "      <th>1</th>\n",
              "      <td>Artist Reputation</td>\n",
              "      <td>0.000000</td>\n",
              "    </tr>\n",
              "    <tr>\n",
              "      <th>10</th>\n",
              "      <td>Transport</td>\n",
              "      <td>0.000000</td>\n",
              "    </tr>\n",
              "    <tr>\n",
              "      <th>8</th>\n",
              "      <td>Express Shipment</td>\n",
              "      <td>0.000000</td>\n",
              "    </tr>\n",
              "    <tr>\n",
              "      <th>12</th>\n",
              "      <td>Customer Information</td>\n",
              "      <td>0.000000</td>\n",
              "    </tr>\n",
              "    <tr>\n",
              "      <th>13</th>\n",
              "      <td>Remote Location</td>\n",
              "      <td>0.000000</td>\n",
              "    </tr>\n",
              "    <tr>\n",
              "      <th>14</th>\n",
              "      <td>Scheduled Date</td>\n",
              "      <td>0.000000</td>\n",
              "    </tr>\n",
              "    <tr>\n",
              "      <th>15</th>\n",
              "      <td>Delivery Date</td>\n",
              "      <td>0.000000</td>\n",
              "    </tr>\n",
              "    <tr>\n",
              "      <th>7</th>\n",
              "      <td>International</td>\n",
              "      <td>0.000000</td>\n",
              "    </tr>\n",
              "    <tr>\n",
              "      <th>9</th>\n",
              "      <td>Installation Included</td>\n",
              "      <td>0.000000</td>\n",
              "    </tr>\n",
              "  </tbody>\n",
              "</table>\n",
              "</div>\n",
              "    <div class=\"colab-df-buttons\">\n",
              "\n",
              "  <div class=\"colab-df-container\">\n",
              "    <button class=\"colab-df-convert\" onclick=\"convertToInteractive('df-a1af57e8-99cf-4f96-b4e1-eef935ab62ae')\"\n",
              "            title=\"Convert this dataframe to an interactive table.\"\n",
              "            style=\"display:none;\">\n",
              "\n",
              "  <svg xmlns=\"http://www.w3.org/2000/svg\" height=\"24px\" viewBox=\"0 -960 960 960\">\n",
              "    <path d=\"M120-120v-720h720v720H120Zm60-500h600v-160H180v160Zm220 220h160v-160H400v160Zm0 220h160v-160H400v160ZM180-400h160v-160H180v160Zm440 0h160v-160H620v160ZM180-180h160v-160H180v160Zm440 0h160v-160H620v160Z\"/>\n",
              "  </svg>\n",
              "    </button>\n",
              "\n",
              "  <style>\n",
              "    .colab-df-container {\n",
              "      display:flex;\n",
              "      gap: 12px;\n",
              "    }\n",
              "\n",
              "    .colab-df-convert {\n",
              "      background-color: #E8F0FE;\n",
              "      border: none;\n",
              "      border-radius: 50%;\n",
              "      cursor: pointer;\n",
              "      display: none;\n",
              "      fill: #1967D2;\n",
              "      height: 32px;\n",
              "      padding: 0 0 0 0;\n",
              "      width: 32px;\n",
              "    }\n",
              "\n",
              "    .colab-df-convert:hover {\n",
              "      background-color: #E2EBFA;\n",
              "      box-shadow: 0px 1px 2px rgba(60, 64, 67, 0.3), 0px 1px 3px 1px rgba(60, 64, 67, 0.15);\n",
              "      fill: #174EA6;\n",
              "    }\n",
              "\n",
              "    .colab-df-buttons div {\n",
              "      margin-bottom: 4px;\n",
              "    }\n",
              "\n",
              "    [theme=dark] .colab-df-convert {\n",
              "      background-color: #3B4455;\n",
              "      fill: #D2E3FC;\n",
              "    }\n",
              "\n",
              "    [theme=dark] .colab-df-convert:hover {\n",
              "      background-color: #434B5C;\n",
              "      box-shadow: 0px 1px 3px 1px rgba(0, 0, 0, 0.15);\n",
              "      filter: drop-shadow(0px 1px 2px rgba(0, 0, 0, 0.3));\n",
              "      fill: #FFFFFF;\n",
              "    }\n",
              "  </style>\n",
              "\n",
              "    <script>\n",
              "      const buttonEl =\n",
              "        document.querySelector('#df-a1af57e8-99cf-4f96-b4e1-eef935ab62ae button.colab-df-convert');\n",
              "      buttonEl.style.display =\n",
              "        google.colab.kernel.accessAllowed ? 'block' : 'none';\n",
              "\n",
              "      async function convertToInteractive(key) {\n",
              "        const element = document.querySelector('#df-a1af57e8-99cf-4f96-b4e1-eef935ab62ae');\n",
              "        const dataTable =\n",
              "          await google.colab.kernel.invokeFunction('convertToInteractive',\n",
              "                                                    [key], {});\n",
              "        if (!dataTable) return;\n",
              "\n",
              "        const docLinkHtml = 'Like what you see? Visit the ' +\n",
              "          '<a target=\"_blank\" href=https://colab.research.google.com/notebooks/data_table.ipynb>data table notebook</a>'\n",
              "          + ' to learn more about interactive tables.';\n",
              "        element.innerHTML = '';\n",
              "        dataTable['output_type'] = 'display_data';\n",
              "        await google.colab.output.renderOutput(dataTable, element);\n",
              "        const docLink = document.createElement('div');\n",
              "        docLink.innerHTML = docLinkHtml;\n",
              "        element.appendChild(docLink);\n",
              "      }\n",
              "    </script>\n",
              "  </div>\n",
              "\n",
              "\n",
              "<div id=\"df-76c86afd-0dc3-408e-98d9-6b543e8fe24e\">\n",
              "  <button class=\"colab-df-quickchart\" onclick=\"quickchart('df-76c86afd-0dc3-408e-98d9-6b543e8fe24e')\"\n",
              "            title=\"Suggest charts\"\n",
              "            style=\"display:none;\">\n",
              "\n",
              "<svg xmlns=\"http://www.w3.org/2000/svg\" height=\"24px\"viewBox=\"0 0 24 24\"\n",
              "     width=\"24px\">\n",
              "    <g>\n",
              "        <path d=\"M19 3H5c-1.1 0-2 .9-2 2v14c0 1.1.9 2 2 2h14c1.1 0 2-.9 2-2V5c0-1.1-.9-2-2-2zM9 17H7v-7h2v7zm4 0h-2V7h2v10zm4 0h-2v-4h2v4z\"/>\n",
              "    </g>\n",
              "</svg>\n",
              "  </button>\n",
              "\n",
              "<style>\n",
              "  .colab-df-quickchart {\n",
              "      --bg-color: #E8F0FE;\n",
              "      --fill-color: #1967D2;\n",
              "      --hover-bg-color: #E2EBFA;\n",
              "      --hover-fill-color: #174EA6;\n",
              "      --disabled-fill-color: #AAA;\n",
              "      --disabled-bg-color: #DDD;\n",
              "  }\n",
              "\n",
              "  [theme=dark] .colab-df-quickchart {\n",
              "      --bg-color: #3B4455;\n",
              "      --fill-color: #D2E3FC;\n",
              "      --hover-bg-color: #434B5C;\n",
              "      --hover-fill-color: #FFFFFF;\n",
              "      --disabled-bg-color: #3B4455;\n",
              "      --disabled-fill-color: #666;\n",
              "  }\n",
              "\n",
              "  .colab-df-quickchart {\n",
              "    background-color: var(--bg-color);\n",
              "    border: none;\n",
              "    border-radius: 50%;\n",
              "    cursor: pointer;\n",
              "    display: none;\n",
              "    fill: var(--fill-color);\n",
              "    height: 32px;\n",
              "    padding: 0;\n",
              "    width: 32px;\n",
              "  }\n",
              "\n",
              "  .colab-df-quickchart:hover {\n",
              "    background-color: var(--hover-bg-color);\n",
              "    box-shadow: 0 1px 2px rgba(60, 64, 67, 0.3), 0 1px 3px 1px rgba(60, 64, 67, 0.15);\n",
              "    fill: var(--button-hover-fill-color);\n",
              "  }\n",
              "\n",
              "  .colab-df-quickchart-complete:disabled,\n",
              "  .colab-df-quickchart-complete:disabled:hover {\n",
              "    background-color: var(--disabled-bg-color);\n",
              "    fill: var(--disabled-fill-color);\n",
              "    box-shadow: none;\n",
              "  }\n",
              "\n",
              "  .colab-df-spinner {\n",
              "    border: 2px solid var(--fill-color);\n",
              "    border-color: transparent;\n",
              "    border-bottom-color: var(--fill-color);\n",
              "    animation:\n",
              "      spin 1s steps(1) infinite;\n",
              "  }\n",
              "\n",
              "  @keyframes spin {\n",
              "    0% {\n",
              "      border-color: transparent;\n",
              "      border-bottom-color: var(--fill-color);\n",
              "      border-left-color: var(--fill-color);\n",
              "    }\n",
              "    20% {\n",
              "      border-color: transparent;\n",
              "      border-left-color: var(--fill-color);\n",
              "      border-top-color: var(--fill-color);\n",
              "    }\n",
              "    30% {\n",
              "      border-color: transparent;\n",
              "      border-left-color: var(--fill-color);\n",
              "      border-top-color: var(--fill-color);\n",
              "      border-right-color: var(--fill-color);\n",
              "    }\n",
              "    40% {\n",
              "      border-color: transparent;\n",
              "      border-right-color: var(--fill-color);\n",
              "      border-top-color: var(--fill-color);\n",
              "    }\n",
              "    60% {\n",
              "      border-color: transparent;\n",
              "      border-right-color: var(--fill-color);\n",
              "    }\n",
              "    80% {\n",
              "      border-color: transparent;\n",
              "      border-right-color: var(--fill-color);\n",
              "      border-bottom-color: var(--fill-color);\n",
              "    }\n",
              "    90% {\n",
              "      border-color: transparent;\n",
              "      border-bottom-color: var(--fill-color);\n",
              "    }\n",
              "  }\n",
              "</style>\n",
              "\n",
              "  <script>\n",
              "    async function quickchart(key) {\n",
              "      const quickchartButtonEl =\n",
              "        document.querySelector('#' + key + ' button');\n",
              "      quickchartButtonEl.disabled = true;  // To prevent multiple clicks.\n",
              "      quickchartButtonEl.classList.add('colab-df-spinner');\n",
              "      try {\n",
              "        const charts = await google.colab.kernel.invokeFunction(\n",
              "            'suggestCharts', [key], {});\n",
              "      } catch (error) {\n",
              "        console.error('Error during call to suggestCharts:', error);\n",
              "      }\n",
              "      quickchartButtonEl.classList.remove('colab-df-spinner');\n",
              "      quickchartButtonEl.classList.add('colab-df-quickchart-complete');\n",
              "    }\n",
              "    (() => {\n",
              "      let quickchartButtonEl =\n",
              "        document.querySelector('#df-76c86afd-0dc3-408e-98d9-6b543e8fe24e button');\n",
              "      quickchartButtonEl.style.display =\n",
              "        google.colab.kernel.accessAllowed ? 'block' : 'none';\n",
              "    })();\n",
              "  </script>\n",
              "</div>\n",
              "\n",
              "  <div id=\"id_5b2e7f6d-dec3-4d6e-ae87-a90f75dfdf6c\">\n",
              "    <style>\n",
              "      .colab-df-generate {\n",
              "        background-color: #E8F0FE;\n",
              "        border: none;\n",
              "        border-radius: 50%;\n",
              "        cursor: pointer;\n",
              "        display: none;\n",
              "        fill: #1967D2;\n",
              "        height: 32px;\n",
              "        padding: 0 0 0 0;\n",
              "        width: 32px;\n",
              "      }\n",
              "\n",
              "      .colab-df-generate:hover {\n",
              "        background-color: #E2EBFA;\n",
              "        box-shadow: 0px 1px 2px rgba(60, 64, 67, 0.3), 0px 1px 3px 1px rgba(60, 64, 67, 0.15);\n",
              "        fill: #174EA6;\n",
              "      }\n",
              "\n",
              "      [theme=dark] .colab-df-generate {\n",
              "        background-color: #3B4455;\n",
              "        fill: #D2E3FC;\n",
              "      }\n",
              "\n",
              "      [theme=dark] .colab-df-generate:hover {\n",
              "        background-color: #434B5C;\n",
              "        box-shadow: 0px 1px 3px 1px rgba(0, 0, 0, 0.15);\n",
              "        filter: drop-shadow(0px 1px 2px rgba(0, 0, 0, 0.3));\n",
              "        fill: #FFFFFF;\n",
              "      }\n",
              "    </style>\n",
              "    <button class=\"colab-df-generate\" onclick=\"generateWithVariable('mi_df')\"\n",
              "            title=\"Generate code using this dataframe.\"\n",
              "            style=\"display:none;\">\n",
              "\n",
              "  <svg xmlns=\"http://www.w3.org/2000/svg\" height=\"24px\"viewBox=\"0 0 24 24\"\n",
              "       width=\"24px\">\n",
              "    <path d=\"M7,19H8.4L18.45,9,17,7.55,7,17.6ZM5,21V16.75L18.45,3.32a2,2,0,0,1,2.83,0l1.4,1.43a1.91,1.91,0,0,1,.58,1.4,1.91,1.91,0,0,1-.58,1.4L9.25,21ZM18.45,9,17,7.55Zm-12,3A5.31,5.31,0,0,0,4.9,8.1,5.31,5.31,0,0,0,1,6.5,5.31,5.31,0,0,0,4.9,4.9,5.31,5.31,0,0,0,6.5,1,5.31,5.31,0,0,0,8.1,4.9,5.31,5.31,0,0,0,12,6.5,5.46,5.46,0,0,0,6.5,12Z\"/>\n",
              "  </svg>\n",
              "    </button>\n",
              "    <script>\n",
              "      (() => {\n",
              "      const buttonEl =\n",
              "        document.querySelector('#id_5b2e7f6d-dec3-4d6e-ae87-a90f75dfdf6c button.colab-df-generate');\n",
              "      buttonEl.style.display =\n",
              "        google.colab.kernel.accessAllowed ? 'block' : 'none';\n",
              "\n",
              "      buttonEl.onclick = () => {\n",
              "        google.colab.notebook.generateWithVariable('mi_df');\n",
              "      }\n",
              "      })();\n",
              "    </script>\n",
              "  </div>\n",
              "\n",
              "    </div>\n",
              "  </div>\n"
            ],
            "application/vnd.google.colaboratory.intrinsic+json": {
              "type": "dataframe",
              "variable_name": "mi_df",
              "summary": "{\n  \"name\": \"mi_df\",\n  \"rows\": 18,\n  \"fields\": [\n    {\n      \"column\": \"Feature\",\n      \"properties\": {\n        \"dtype\": \"string\",\n        \"num_unique_values\": 18,\n        \"samples\": [\n          \"Weight\",\n          \"Price Of Sculpture\",\n          \"Artist Name\"\n        ],\n        \"semantic_type\": \"\",\n        \"description\": \"\"\n      }\n    },\n    {\n      \"column\": \"Mutual Information\",\n      \"properties\": {\n        \"dtype\": \"number\",\n        \"std\": 0.16052028276410843,\n        \"min\": 0.0,\n        \"max\": 0.4536375481930244,\n        \"num_unique_values\": 10,\n        \"samples\": [\n          0.0017820539135584568,\n          0.43819608747597316,\n          0.08763636658309437\n        ],\n        \"semantic_type\": \"\",\n        \"description\": \"\"\n      }\n    }\n  ]\n}"
            }
          },
          "metadata": {},
          "execution_count": 19
        }
      ]
    },
    {
      "cell_type": "markdown",
      "source": [
        "##**[2.1]** Immutation for 'Height', 'Width', 'Weight'\n",
        "\n",
        "* Missing numerical variables are generally replaced by Mean or Median.\n",
        "\n"
      ],
      "metadata": {
        "id": "A1Xj5ahtg17Y"
      }
    },
    {
      "cell_type": "code",
      "source": [
        "# prompt: fill 'Height', 'Width', 'Weight' with mean\n",
        "\n",
        "df_train['Height'] = df_train['Height'].fillna(df_train['Height'].mean())\n",
        "df_train['Width'] = df_train['Width'].fillna(df_train['Width'].mean())\n",
        "df_train['Weight'] = df_train['Weight'].fillna(df_train['Weight'].mean())\n"
      ],
      "metadata": {
        "id": "e6MNGiFrRgDV"
      },
      "execution_count": null,
      "outputs": []
    },
    {
      "cell_type": "code",
      "source": [
        "# Placeholder for student's code\n",
        "# Try fill 'Height', 'Width', 'Weight' with median"
      ],
      "metadata": {
        "id": "urD5ZSbL7-3K"
      },
      "execution_count": null,
      "outputs": []
    },
    {
      "cell_type": "markdown",
      "source": [
        "Missing categorical variables are generally replaced by Mode."
      ],
      "metadata": {
        "id": "7-JjeILf9lvr"
      }
    },
    {
      "cell_type": "code",
      "source": [
        "# prompt: fill nan Material with mode\n",
        "\n",
        "df_train['Material'].fillna(df_train['Material'].mode()[0], inplace=True)\n",
        "df_train['Transport'].fillna(df_train['Transport'].mode()[0], inplace=True)\n",
        "df_train['Remote Location'].fillna(df_train['Remote Location'].mode()[0], inplace=True)"
      ],
      "metadata": {
        "id": "nLpYW_KD9ZdO"
      },
      "execution_count": null,
      "outputs": []
    },
    {
      "cell_type": "code",
      "source": [
        "# check for null values\n",
        "\n",
        "df_train.isnull().sum()"
      ],
      "metadata": {
        "id": "taVFxu65Avmk"
      },
      "execution_count": null,
      "outputs": []
    },
    {
      "cell_type": "markdown",
      "source": [
        "##**[2.2]** Discretization\n",
        "\n",
        "* Discretization involves grouping data values into bins.\n"
      ],
      "metadata": {
        "id": "eUJ3zi3lRjfZ"
      }
    },
    {
      "cell_type": "code",
      "source": [
        "df_train.head()"
      ],
      "metadata": {
        "id": "CBj6uc6ORzRT"
      },
      "execution_count": null,
      "outputs": []
    },
    {
      "cell_type": "code",
      "source": [
        "df_train['Material'].unique()"
      ],
      "metadata": {
        "id": "QAp1suwt9OYb"
      },
      "execution_count": null,
      "outputs": []
    },
    {
      "cell_type": "code",
      "source": [
        "# prompt: create new column from 'Material' classify metal or non metal\n",
        "\n",
        "df_train['Material_cat'] = np.where(df_train['Material'].str.contains('Metal'), 'Metal', 'Non-Metal')\n",
        "df_train.head()\n"
      ],
      "metadata": {
        "id": "dZV2TI1e963w"
      },
      "execution_count": null,
      "outputs": []
    },
    {
      "cell_type": "markdown",
      "source": [
        "##**[2.3]** One-Hot Encoding\n",
        "\n",
        "Beware OHE could dramatically increase the number of features and result in highly correlated features."
      ],
      "metadata": {
        "id": "yQFoUBFcBJVC"
      }
    },
    {
      "cell_type": "code",
      "source": [
        "# prompt: one-hot encoding for Material column\n",
        "\n",
        "df_train = pd.get_dummies(df_train, columns=['Material'], prefix='Material_')\n"
      ],
      "metadata": {
        "id": "K6HuZfCUA9hE"
      },
      "execution_count": null,
      "outputs": []
    },
    {
      "cell_type": "code",
      "source": [
        "pd.set_option('display.max_columns', None)\n",
        "df_train.head()"
      ],
      "metadata": {
        "id": "U_9ZeyenBE8Q"
      },
      "execution_count": null,
      "outputs": []
    },
    {
      "cell_type": "markdown",
      "source": [
        "##**[2.4]** Feature Splitting"
      ],
      "metadata": {
        "id": "QQYO6-7nBf4z"
      }
    },
    {
      "cell_type": "code",
      "source": [
        "# prompt: df_train Scheduled Date and Delivery Date to datetime\n",
        "\n",
        "df_train['Scheduled Date'] = pd.to_datetime(df_train['Scheduled Date'])\n",
        "df_train['Delivery Date'] = pd.to_datetime(df_train['Delivery Date'])\n"
      ],
      "metadata": {
        "id": "AjR3SOcNCO70"
      },
      "execution_count": null,
      "outputs": []
    },
    {
      "cell_type": "code",
      "source": [
        "# prompt: split Scheduled Date to year month day columns seperate\n",
        "\n",
        "df_train['Scheduled_Year'] = df_train['Scheduled Date'].dt.year\n",
        "df_train['Scheduled_Month'] = df_train['Scheduled Date'].dt.month\n",
        "df_train['Scheduled_Day'] = df_train['Scheduled Date'].dt.day\n"
      ],
      "metadata": {
        "id": "CXD228ndCea-"
      },
      "execution_count": null,
      "outputs": []
    },
    {
      "cell_type": "code",
      "source": [
        "pd.reset_option('all')\n",
        "df_train.head()"
      ],
      "metadata": {
        "id": "IlRhGyYYCmn9"
      },
      "execution_count": null,
      "outputs": []
    },
    {
      "cell_type": "markdown",
      "source": [
        "##**[2.5]** Handling Outliers\n",
        "\n",
        "Handline unusually high or low values in the dataset by Remove, Replace, or Capping the values"
      ],
      "metadata": {
        "id": "Cf74xvdUDqWD"
      }
    },
    {
      "cell_type": "code",
      "source": [
        "org_train.describe()"
      ],
      "metadata": {
        "id": "gXtnwNhEDp8z"
      },
      "execution_count": null,
      "outputs": []
    },
    {
      "cell_type": "code",
      "source": [
        "# prompt: plot bloxplot for all column in org_train\n",
        "\n",
        "import seaborn as sns\n",
        "\n",
        "# Calculate the number of rows and columns for subplots\n",
        "num_rows = 2\n",
        "num_columns = len(num_cols) // 2 + len(num_cols) % 2  # Ensure an even number of columns if len(num_cols) is odd\n",
        "\n",
        "# Set up the subplots\n",
        "fig, axes = plt.subplots(num_rows, num_columns, figsize=(10, 5))\n",
        "\n",
        "# Flatten the axes array if there is only one row\n",
        "axes = axes.flatten()\n",
        "\n",
        "# Iterate through numerical columns and create boxplots\n",
        "for i, col in enumerate(num_cols):\n",
        "    if i < len(axes):  # Check if there are more axes available\n",
        "      sns.boxplot(x=org_train[col], ax=axes[i])\n",
        "      axes[i].set_title(col)\n",
        "\n",
        "# Adjust layout for better visualization\n",
        "plt.tight_layout()\n",
        "plt.show()"
      ],
      "metadata": {
        "id": "zE0mDDYdEUzO"
      },
      "execution_count": null,
      "outputs": []
    },
    {
      "cell_type": "code",
      "source": [
        "org_train.describe()"
      ],
      "metadata": {
        "id": "oDT5Z6h-IOnu"
      },
      "execution_count": null,
      "outputs": []
    },
    {
      "cell_type": "code",
      "source": [
        "train_rm_out = org_train.copy()\n",
        "train_rp_out = org_train.copy()\n",
        "train_cp_out = org_train.copy()"
      ],
      "metadata": {
        "id": "jGcJnUcXcNmz"
      },
      "execution_count": null,
      "outputs": []
    },
    {
      "cell_type": "code",
      "source": [
        "# prompt: dealing with outliner by remove replace capping\n",
        "\n",
        "# Remove outliers\n",
        "Q1 = train_rm_out['Height'].quantile(0.25)\n",
        "Q3 = train_rm_out['Height'].quantile(0.75)\n",
        "\n",
        "IQR = Q3 - Q1\n",
        "\n",
        "lower_bound = Q1 - 1.5 * IQR\n",
        "upper_bound = Q3 + 1.5 * IQR\n",
        "\n",
        "train_rm_out = train_rm_out[(train_rm_out['Height'] >= lower_bound) & (org_train['Height'] <= upper_bound)]"
      ],
      "metadata": {
        "id": "TROAZaToHmxq"
      },
      "execution_count": null,
      "outputs": []
    },
    {
      "cell_type": "code",
      "source": [
        "# prompt: replace outliner in train_rp_out\n",
        "\n",
        "# Replace outliers\n",
        "Q1 = train_rp_out['Height'].quantile(0.25)\n",
        "Q3 = train_rp_out['Height'].quantile(0.75)\n",
        "\n",
        "IQR = Q3 - Q1\n",
        "\n",
        "lower_bound = Q1 - 1.5 * IQR\n",
        "upper_bound = Q3 + 1.5 * IQR\n",
        "\n",
        "train_rp_out['Height'] = np.where((train_rp_out['Height'] < lower_bound) | (train_rp_out['Height'] > upper_bound), train_rp_out['Height'].median(), train_rp_out['Height'])\n"
      ],
      "metadata": {
        "id": "Xhnwk1fKfVTL"
      },
      "execution_count": null,
      "outputs": []
    },
    {
      "cell_type": "code",
      "source": [
        "# Cap outliers\n",
        "train_cp_out['Height'] = train_cp_out['Height'].clip(lower_bound, upper_bound)"
      ],
      "metadata": {
        "id": "56vq0hNDIfpg"
      },
      "execution_count": null,
      "outputs": []
    },
    {
      "cell_type": "markdown",
      "source": [
        "**Comparing** the shape of the dataset after performing Remove, Replace, Capping methods on outliers"
      ],
      "metadata": {
        "id": "go_hI29dfzsv"
      }
    },
    {
      "cell_type": "code",
      "source": [
        "train_rm_out.shape, train_rp_out.shape, train_cp_out.shape"
      ],
      "metadata": {
        "id": "2qtc0iuRcSry"
      },
      "execution_count": null,
      "outputs": []
    },
    {
      "cell_type": "code",
      "source": [
        "train_rm_out.describe()"
      ],
      "metadata": {
        "id": "6_a6RH0bIoVg"
      },
      "execution_count": null,
      "outputs": []
    },
    {
      "cell_type": "code",
      "source": [
        "train_rp_out.describe()"
      ],
      "metadata": {
        "id": "M_k57D9Rfj8n"
      },
      "execution_count": null,
      "outputs": []
    },
    {
      "cell_type": "code",
      "source": [
        "train_cp_out.describe()"
      ],
      "metadata": {
        "id": "AuQ8rDlGctdJ"
      },
      "execution_count": null,
      "outputs": []
    },
    {
      "cell_type": "markdown",
      "source": [
        "##**[2.6]** Variable Transformations"
      ],
      "metadata": {
        "id": "ZbV7HnlsiL0f"
      }
    },
    {
      "cell_type": "code",
      "source": [
        "# prompt: plot df_train['Cost'] to show distribution\n",
        "\n",
        "sns.distplot(df_train['Cost'])\n",
        "plt.show()"
      ],
      "metadata": {
        "id": "FBU0cVIClBJt"
      },
      "execution_count": null,
      "outputs": []
    },
    {
      "cell_type": "code",
      "source": [
        "df_train['Log_Cost'] = df_train['Cost'].apply(lambda x : np.log1p(abs(x)))"
      ],
      "metadata": {
        "id": "MXUN0F-qoOFj"
      },
      "execution_count": null,
      "outputs": []
    },
    {
      "cell_type": "code",
      "source": [
        "sns.distplot(df_train['Log_Cost'])\n",
        "plt.show()"
      ],
      "metadata": {
        "id": "V59rJwp_ohOk"
      },
      "execution_count": null,
      "outputs": []
    },
    {
      "cell_type": "code",
      "source": [
        "# prompt: apply Quantile Transformer Scaler to df_train['Cost'] create a new column call 'Quan_Cost'\n",
        "\n",
        "from sklearn.preprocessing import QuantileTransformer\n",
        "\n",
        "scaler = QuantileTransformer(output_distribution='normal')\n",
        "df_train['Quan_Cost'] = scaler.fit_transform(df_train['Cost'].values.reshape(-1, 1))\n"
      ],
      "metadata": {
        "id": "--oKcutmopbU"
      },
      "execution_count": null,
      "outputs": []
    },
    {
      "cell_type": "code",
      "source": [
        "sns.distplot(df_train['Quan_Cost'])\n",
        "plt.show()"
      ],
      "metadata": {
        "id": "BXR-ioPco1kq"
      },
      "execution_count": null,
      "outputs": []
    },
    {
      "cell_type": "markdown",
      "source": [
        "##**[2.7]** Scaling"
      ],
      "metadata": {
        "id": "8F7YIkog-Wq3"
      }
    },
    {
      "cell_type": "code",
      "source": [
        "df_train.head()"
      ],
      "metadata": {
        "id": "lndmX_V5-TBQ"
      },
      "execution_count": null,
      "outputs": []
    },
    {
      "cell_type": "markdown",
      "source": [
        "#3. Train LinearRegression Model\n"
      ],
      "metadata": {
        "id": "hEFDXZrBf8RO"
      }
    },
    {
      "cell_type": "markdown",
      "source": [
        "**[3.1]** Import the LinearRegression model from sklearn.linear_model"
      ],
      "metadata": {
        "id": "GXcEljHMgCSN"
      }
    },
    {
      "cell_type": "code",
      "source": [
        "org_train.head()"
      ],
      "metadata": {
        "id": "VFGz7D9p_8kL"
      },
      "execution_count": null,
      "outputs": []
    },
    {
      "cell_type": "code",
      "source": [
        "org_train.dropna(inplace=True)"
      ],
      "metadata": {
        "id": "pPDohZHXALFb"
      },
      "execution_count": null,
      "outputs": []
    },
    {
      "cell_type": "code",
      "source": [
        "org_train.isnull().sum()"
      ],
      "metadata": {
        "id": "yB-eokoFECLu"
      },
      "execution_count": null,
      "outputs": []
    },
    {
      "cell_type": "code",
      "source": [
        "num_cols = org_train.select_dtypes(exclude=['object']).columns.tolist()\n",
        "\n",
        "print(\"\\nNumerical columns:\")\n",
        "print(num_cols)"
      ],
      "metadata": {
        "id": "qi1dkAEGAYwc"
      },
      "execution_count": null,
      "outputs": []
    },
    {
      "cell_type": "code",
      "source": [
        "# prompt: y=org_train Base Shipping Price, X = org_train[num_cols] except Base Shipping Price\n",
        "\n",
        "y = org_train['Base Shipping Price']\n",
        "X = org_train[num_cols]\n",
        "X = X.drop('Base Shipping Price', axis=1)\n"
      ],
      "metadata": {
        "id": "DPQbNzxiELiL"
      },
      "execution_count": null,
      "outputs": []
    },
    {
      "cell_type": "code",
      "source": [
        "X.shape, y.shape"
      ],
      "metadata": {
        "id": "WNvUfSo8DI-R"
      },
      "execution_count": null,
      "outputs": []
    },
    {
      "cell_type": "code",
      "source": [
        "# prompt: import Linear regression fit X, y prediction\n",
        "\n",
        "from sklearn.linear_model import LinearRegression\n",
        "\n",
        "model = LinearRegression()\n",
        "model.fit(X, y)\n",
        "y_pred = model.predict(X)\n"
      ],
      "metadata": {
        "id": "m0OKb9QnAwmT"
      },
      "execution_count": null,
      "outputs": []
    },
    {
      "cell_type": "markdown",
      "source": [
        "**[3.4]** Calculate the RMSE and MAE between the target variable and the predictions"
      ],
      "metadata": {
        "id": "MmwF55CyiMYU"
      }
    },
    {
      "cell_type": "code",
      "source": [
        "# prompt: print rmse mae\n",
        "\n",
        "from sklearn.metrics import mean_squared_error, mean_absolute_error\n",
        "\n",
        "rmse = mean_squared_error(y, y_pred, squared=False)\n",
        "mae = mean_absolute_error(y, y_pred)\n",
        "\n",
        "print(\"RMSE:\", rmse)\n",
        "print(\"MAE:\", mae)"
      ],
      "metadata": {
        "id": "5M7X0YlBiLeh"
      },
      "execution_count": null,
      "outputs": []
    },
    {
      "cell_type": "markdown",
      "source": [
        "#3. Train LinearRegression Model on Features engineered dataset\n"
      ],
      "metadata": {
        "id": "9cMbejrDBK5h"
      }
    },
    {
      "cell_type": "markdown",
      "source": [
        "**[3.1]** Import the LinearRegression model from sklearn.linear_model"
      ],
      "metadata": {
        "id": "1CUDBlWbBK5h"
      }
    },
    {
      "cell_type": "code",
      "source": [
        "df_train.isnull().sum()"
      ],
      "metadata": {
        "id": "cipeJIxzBK5h"
      },
      "execution_count": null,
      "outputs": []
    },
    {
      "cell_type": "code",
      "source": [
        "num_cols_df = df_train.select_dtypes(exclude=['object']).columns.tolist()\n",
        "\n",
        "print(\"\\nNumerical columns: \")\n",
        "print(num_cols_df)"
      ],
      "metadata": {
        "id": "WKvhGbxvBK5h"
      },
      "execution_count": null,
      "outputs": []
    },
    {
      "cell_type": "code",
      "source": [
        "# prompt: y=org_train Base Shipping Price, X = org_train[num_cols] except Base Shipping Price\n",
        "\n",
        "y2 = df_train['Base Shipping Price']\n",
        "X2 = df_train[num_cols]\n",
        "X2 = X2.drop('Base Shipping Price', axis=1)"
      ],
      "metadata": {
        "id": "gbBnXCreBK5h"
      },
      "execution_count": null,
      "outputs": []
    },
    {
      "cell_type": "code",
      "source": [
        "X2.shape, y2.shape"
      ],
      "metadata": {
        "id": "e3sATIZoEq7p"
      },
      "execution_count": null,
      "outputs": []
    },
    {
      "cell_type": "code",
      "source": [
        "# prompt: import Linear regression fit X, y prediction\n",
        "\n",
        "from sklearn.linear_model import LinearRegression\n",
        "\n",
        "model = LinearRegression()\n",
        "model.fit(X2, y2)\n",
        "y_pred2 = model.predict(X2)\n"
      ],
      "metadata": {
        "id": "PscT7GDyBK5h"
      },
      "execution_count": null,
      "outputs": []
    },
    {
      "cell_type": "markdown",
      "source": [
        "**[3.4]** Calculate the RMSE and MAE between the target variable and the predictions"
      ],
      "metadata": {
        "id": "bqsHFcLqBK5h"
      }
    },
    {
      "cell_type": "code",
      "source": [
        "# prompt: print rmse mae\n",
        "\n",
        "rmse = mean_squared_error(y2, y_pred2, squared=False)\n",
        "mae = mean_absolute_error(y2, y_pred2)\n",
        "\n",
        "print(\"RMSE:\", rmse)\n",
        "print(\"MAE:\", mae)"
      ],
      "metadata": {
        "id": "RXvMPbatBK5h"
      },
      "execution_count": null,
      "outputs": []
    },
    {
      "cell_type": "markdown",
      "source": [
        "#4. Compare the performance metrics\n",
        "Do new features improve the performance of the models? If not what went wrong and how do we fix this?"
      ],
      "metadata": {
        "id": "OSPk6tb6ISnA"
      }
    },
    {
      "cell_type": "code",
      "source": [
        "org_train.info()"
      ],
      "metadata": {
        "id": "eBLxc15gE1-C"
      },
      "execution_count": null,
      "outputs": []
    },
    {
      "cell_type": "code",
      "source": [
        "df_train.info()"
      ],
      "metadata": {
        "id": "5FvEDYArGpkU"
      },
      "execution_count": null,
      "outputs": []
    },
    {
      "cell_type": "code",
      "source": [],
      "metadata": {
        "id": "on8gmXRnGy5I"
      },
      "execution_count": null,
      "outputs": []
    }
  ]
}